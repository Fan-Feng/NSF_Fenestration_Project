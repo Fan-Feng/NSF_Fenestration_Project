{
 "cells": [
  {
   "cell_type": "markdown",
   "metadata": {},
   "source": [
    "RNN model: Encoder-decoder LSTM RNN"
   ]
  },
  {
   "cell_type": "code",
   "execution_count": 1,
   "metadata": {},
   "outputs": [],
   "source": [
    "import matplotlib.pyplot as plt\n",
    "import scipy as sp\n",
    "import sys\n",
    "import pandas as pd\n",
    "import numpy as np\n",
    "import datetime,time\n",
    "%matplotlib inline"
   ]
  },
  {
   "cell_type": "code",
   "execution_count": 2,
   "metadata": {},
   "outputs": [
    {
     "name": "stderr",
     "output_type": "stream",
     "text": [
      "Using Theano backend.\n"
     ]
    }
   ],
   "source": [
    "from random import randint\n",
    "from numpy import array\n",
    "from numpy import argmax\n",
    "from numpy import array_equal\n",
    "from keras.utils import to_categorical\n",
    "from keras.models import Model\n",
    "from keras.layers import Input\n",
    "from keras.layers import LSTM\n",
    "from keras.layers import Dense"
   ]
  },
  {
   "cell_type": "code",
   "execution_count": 3,
   "metadata": {},
   "outputs": [],
   "source": [
    "from keras import Sequential"
   ]
  },
  {
   "cell_type": "code",
   "execution_count": 4,
   "metadata": {},
   "outputs": [],
   "source": [
    "# import my package\n",
    "sys.path.append(r\"C:\\Users\\Fan\\OneDrive - tongji.edu.cn\\Project_in_UA\\Fan' file\\2_UA_Project\\ProjectFenestration\\2_Model\\Control_Oriented_Model\\Code\\SourceCode\")\n",
    "from Data_Preprocessing import *"
   ]
  },
  {
   "cell_type": "markdown",
   "metadata": {},
   "source": [
    "#### Global parameters"
   ]
  },
  {
   "cell_type": "code",
   "execution_count": 5,
   "metadata": {},
   "outputs": [],
   "source": [
    "## Some Global Variables\n",
    "\n",
    "## You need to specify these three parameters everytime!!!\n",
    "TimeInterval = '10T' # 10 mins\n",
    "PredictionHorizon = \"6H\"\n",
    "time_lags = [1]"
   ]
  },
  {
   "cell_type": "code",
   "execution_count": 6,
   "metadata": {},
   "outputs": [],
   "source": [
    "workingPath = r\"C:\\Users\\Fan\\OneDrive - tongji.edu.cn\\Project_in_UA\\Fan' file\\2_UA_Project\\ProjectFenestration\\2_Model\\Control_Oriented_Model\\Data\"\n",
    "\n",
    "# January\n",
    "workingPath_Jan = r\"C:\\Users\\Fan\\OneDrive - tongji.edu.cn\\Project_in_UA\\Fan' file\\2_UA_Project\\ProjectFenestration\\2_Model\\Control_Oriented_Model\\Data\\Jan_Case\"\n",
    "\n",
    "# July\n",
    "workingPath_July = r\"C:\\Users\\Fan\\OneDrive - tongji.edu.cn\\Project_in_UA\\Fan' file\\2_UA_Project\\ProjectFenestration\\2_Model\\Control_Oriented_Model\\Data\\July_Case\"\n",
    "\n",
    "FileName = []\n",
    "FileName.append(\"Cor_Month.csv\")\n",
    "FileName.append(\"Sou_Month.csv\")\n",
    "FileName.append(\"Nor_Month.csv\")\n",
    "FileName.append(\"Wes_Month.csv\")\n",
    "FileName.append(\"Eas_Month.csv\")"
   ]
  },
  {
   "cell_type": "markdown",
   "metadata": {},
   "source": [
    "<br id=\"Read_Data\">\n",
    "\n",
    "### read data\n",
    "#### Initial Data\n",
    "\n",
    "<br>\n",
    "Read data from originald data file, which are not record in even time intervel"
   ]
  },
  {
   "cell_type": "code",
   "execution_count": 7,
   "metadata": {},
   "outputs": [],
   "source": [
    "data = pd.read_csv(workingPath+\"\\\\One_Month.csv\")"
   ]
  },
  {
   "cell_type": "markdown",
   "metadata": {},
   "source": [
    "##### Q: are all time interval smaller than 10s??"
   ]
  },
  {
   "cell_type": "code",
   "execution_count": 8,
   "metadata": {},
   "outputs": [
    {
     "name": "stdout",
     "output_type": "stream",
     "text": [
      "               data\n",
      "count  40275.000000\n",
      "mean      14.125909\n",
      "std       23.397909\n",
      "min        0.000000\n",
      "25%        0.000000\n",
      "50%        0.000000\n",
      "75%       21.000000\n",
      "max       60.000000\n"
     ]
    },
    {
     "data": {
      "text/plain": [
       "(60.0, False)"
      ]
     },
     "execution_count": 8,
     "metadata": {},
     "output_type": "execute_result"
    },
    {
     "data": {
      "image/png": "[encoded data removed]",
      "text/plain": [
       "<Figure size 432x288 with 1 Axes>"
      ]
     },
     "metadata": {
      "needs_background": "light"
     },
     "output_type": "display_data"
    }
   ],
   "source": [
    "test_max_time_interval(data.iloc[:40276,0])"
   ]
  },
  {
   "cell_type": "markdown",
   "metadata": {},
   "source": [
    "#### Read weather data"
   ]
  },
  {
   "cell_type": "code",
   "execution_count": 9,
   "metadata": {},
   "outputs": [
    {
     "data": {
      "text/html": [
       "<div>\n",
       "<style scoped>\n",
       "    .dataframe tbody tr th:only-of-type {\n",
       "        vertical-align: middle;\n",
       "    }\n",
       "\n",
       "    .dataframe tbody tr th {\n",
       "        vertical-align: top;\n",
       "    }\n",
       "\n",
       "    .dataframe thead th {\n",
       "        text-align: right;\n",
       "    }\n",
       "</style>\n",
       "<table border=\"1\" class=\"dataframe\">\n",
       "  <thead>\n",
       "    <tr style=\"text-align: right;\">\n",
       "      <th></th>\n",
       "      <th>Dry Bulb Temperature {C}</th>\n",
       "      <th>Dew Point Temperature {C}</th>\n",
       "      <th>Relative Humidity {%}</th>\n",
       "      <th>Atmospheric Pressure {Pa}</th>\n",
       "      <th>Extraterrestrial Horizontal Radiation {Wh/m2}</th>\n",
       "      <th>Extraterrestrial Direct Normal Radiation {Wh/m2}</th>\n",
       "      <th>Horizontal Infrared Radiation Intensity from Sky {Wh/m2}</th>\n",
       "      <th>Global Horizontal Radiation {Wh/m2}</th>\n",
       "      <th>Direct Normal Radiation {Wh/m2}</th>\n",
       "      <th>Diffuse Horizontal Radiation {Wh/m2}</th>\n",
       "    </tr>\n",
       "    <tr>\n",
       "      <th>Date</th>\n",
       "      <th></th>\n",
       "      <th></th>\n",
       "      <th></th>\n",
       "      <th></th>\n",
       "      <th></th>\n",
       "      <th></th>\n",
       "      <th></th>\n",
       "      <th></th>\n",
       "      <th></th>\n",
       "      <th></th>\n",
       "    </tr>\n",
       "  </thead>\n",
       "  <tbody>\n",
       "    <tr>\n",
       "      <th>1970-01-01 00:00:00</th>\n",
       "      <td>-12.2</td>\n",
       "      <td>-16.1</td>\n",
       "      <td>73</td>\n",
       "      <td>99500</td>\n",
       "      <td>0</td>\n",
       "      <td>0</td>\n",
       "      <td>218</td>\n",
       "      <td>0</td>\n",
       "      <td>0</td>\n",
       "      <td>0</td>\n",
       "    </tr>\n",
       "    <tr>\n",
       "      <th>1970-01-01 00:00:10</th>\n",
       "      <td>-12.2</td>\n",
       "      <td>-16.1</td>\n",
       "      <td>73</td>\n",
       "      <td>99500</td>\n",
       "      <td>0</td>\n",
       "      <td>0</td>\n",
       "      <td>218</td>\n",
       "      <td>0</td>\n",
       "      <td>0</td>\n",
       "      <td>0</td>\n",
       "    </tr>\n",
       "    <tr>\n",
       "      <th>1970-01-01 00:00:20</th>\n",
       "      <td>-12.2</td>\n",
       "      <td>-16.1</td>\n",
       "      <td>73</td>\n",
       "      <td>99500</td>\n",
       "      <td>0</td>\n",
       "      <td>0</td>\n",
       "      <td>218</td>\n",
       "      <td>0</td>\n",
       "      <td>0</td>\n",
       "      <td>0</td>\n",
       "    </tr>\n",
       "    <tr>\n",
       "      <th>1970-01-01 00:00:30</th>\n",
       "      <td>-12.2</td>\n",
       "      <td>-16.1</td>\n",
       "      <td>73</td>\n",
       "      <td>99500</td>\n",
       "      <td>0</td>\n",
       "      <td>0</td>\n",
       "      <td>218</td>\n",
       "      <td>0</td>\n",
       "      <td>0</td>\n",
       "      <td>0</td>\n",
       "    </tr>\n",
       "    <tr>\n",
       "      <th>1970-01-01 00:00:40</th>\n",
       "      <td>-12.2</td>\n",
       "      <td>-16.1</td>\n",
       "      <td>73</td>\n",
       "      <td>99500</td>\n",
       "      <td>0</td>\n",
       "      <td>0</td>\n",
       "      <td>218</td>\n",
       "      <td>0</td>\n",
       "      <td>0</td>\n",
       "      <td>0</td>\n",
       "    </tr>\n",
       "  </tbody>\n",
       "</table>\n",
       "</div>"
      ],
      "text/plain": [
       "                     Dry Bulb Temperature {C}  Dew Point Temperature {C}  \\\n",
       "Date                                                                       \n",
       "1970-01-01 00:00:00                     -12.2                      -16.1   \n",
       "1970-01-01 00:00:10                     -12.2                      -16.1   \n",
       "1970-01-01 00:00:20                     -12.2                      -16.1   \n",
       "1970-01-01 00:00:30                     -12.2                      -16.1   \n",
       "1970-01-01 00:00:40                     -12.2                      -16.1   \n",
       "\n",
       "                     Relative Humidity {%}  Atmospheric Pressure {Pa}  \\\n",
       "Date                                                                    \n",
       "1970-01-01 00:00:00                     73                      99500   \n",
       "1970-01-01 00:00:10                     73                      99500   \n",
       "1970-01-01 00:00:20                     73                      99500   \n",
       "1970-01-01 00:00:30                     73                      99500   \n",
       "1970-01-01 00:00:40                     73                      99500   \n",
       "\n",
       "                     Extraterrestrial Horizontal Radiation {Wh/m2}  \\\n",
       "Date                                                                 \n",
       "1970-01-01 00:00:00                                              0   \n",
       "1970-01-01 00:00:10                                              0   \n",
       "1970-01-01 00:00:20                                              0   \n",
       "1970-01-01 00:00:30                                              0   \n",
       "1970-01-01 00:00:40                                              0   \n",
       "\n",
       "                     Extraterrestrial Direct Normal Radiation {Wh/m2}  \\\n",
       "Date                                                                    \n",
       "1970-01-01 00:00:00                                                 0   \n",
       "1970-01-01 00:00:10                                                 0   \n",
       "1970-01-01 00:00:20                                                 0   \n",
       "1970-01-01 00:00:30                                                 0   \n",
       "1970-01-01 00:00:40                                                 0   \n",
       "\n",
       "                     Horizontal Infrared Radiation Intensity from Sky {Wh/m2}  \\\n",
       "Date                                                                            \n",
       "1970-01-01 00:00:00                                                218          \n",
       "1970-01-01 00:00:10                                                218          \n",
       "1970-01-01 00:00:20                                                218          \n",
       "1970-01-01 00:00:30                                                218          \n",
       "1970-01-01 00:00:40                                                218          \n",
       "\n",
       "                     Global Horizontal Radiation {Wh/m2}  \\\n",
       "Date                                                       \n",
       "1970-01-01 00:00:00                                    0   \n",
       "1970-01-01 00:00:10                                    0   \n",
       "1970-01-01 00:00:20                                    0   \n",
       "1970-01-01 00:00:30                                    0   \n",
       "1970-01-01 00:00:40                                    0   \n",
       "\n",
       "                     Direct Normal Radiation {Wh/m2}  \\\n",
       "Date                                                   \n",
       "1970-01-01 00:00:00                                0   \n",
       "1970-01-01 00:00:10                                0   \n",
       "1970-01-01 00:00:20                                0   \n",
       "1970-01-01 00:00:30                                0   \n",
       "1970-01-01 00:00:40                                0   \n",
       "\n",
       "                     Diffuse Horizontal Radiation {Wh/m2}  \n",
       "Date                                                       \n",
       "1970-01-01 00:00:00                                     0  \n",
       "1970-01-01 00:00:10                                     0  \n",
       "1970-01-01 00:00:20                                     0  \n",
       "1970-01-01 00:00:30                                     0  \n",
       "1970-01-01 00:00:40                                     0  "
      ]
     },
     "execution_count": 9,
     "metadata": {},
     "output_type": "execute_result"
    }
   ],
   "source": [
    "Weather_Data_resampled = read_WeatherData(workingPath+\"\\\\WeatherData.csv\")\n",
    "Weather_Data_resampled.head()"
   ]
  },
  {
   "cell_type": "markdown",
   "metadata": {},
   "source": [
    "#### data preprocessing: transform the data into evenly sampled"
   ]
  },
  {
   "cell_type": "code",
   "execution_count": 10,
   "metadata": {},
   "outputs": [],
   "source": [
    "Data_Jan= {}\n",
    "Data_Jan['Cor'] = pd.read_csv(workingPath_Jan+\"\\\\\"+FileName[0],parse_dates =[0],\n",
    "                              date_parser=lambda x:time.strftime(\"%Y-%m-%d %H:%M:%S\",time.gmtime(float(x))),index_col=[0])\n",
    "Data_Jan['Sou'] = pd.read_csv(workingPath_Jan+\"\\\\\"+FileName[1],parse_dates =[0],\n",
    "                              date_parser=lambda x:time.strftime(\"%Y-%m-%d %H:%M:%S\",time.gmtime(float(x))),index_col=[0])\n",
    "Data_Jan['Nor'] = pd.read_csv(workingPath_Jan+\"\\\\\"+FileName[2],parse_dates =[0],\n",
    "                              date_parser=lambda x:time.strftime(\"%Y-%m-%d %H:%M:%S\",time.gmtime(float(x))),index_col=[0])\n",
    "Data_Jan['Wes'] = pd.read_csv(workingPath_Jan+\"\\\\\"+FileName[3],parse_dates =[0],\n",
    "                              date_parser=lambda x:time.strftime(\"%Y-%m-%d %H:%M:%S\",time.gmtime(float(x))),index_col=[0])\n",
    "Data_Jan['Eas'] = pd.read_csv(workingPath_Jan+\"\\\\\"+FileName[4],parse_dates =[0],\n",
    "                              date_parser=lambda x:time.strftime(\"%Y-%m-%d %H:%M:%S\",time.gmtime(float(x))),index_col=[0])"
   ]
  },
  {
   "cell_type": "code",
   "execution_count": 11,
   "metadata": {},
   "outputs": [],
   "source": [
    "Data_Jan_Resampled = {}\n",
    "for idx, value in Data_Jan.items():\n",
    "    ## drop duplciates, and back fill nan\n",
    "    Data_Jan_Resampled[idx] = value.drop_duplicates().bfill()\n",
    "    Data_Jan_Resampled[idx] = Data_Jan[idx].iloc[0:1,:].append(Data_Jan[idx].iloc[1:,:].resample(\"10s\",label =\"right\").mean()).bfill()  "
   ]
  },
  {
   "cell_type": "code",
   "execution_count": 12,
   "metadata": {},
   "outputs": [
    {
     "data": {
      "text/html": [
       "<div>\n",
       "<style scoped>\n",
       "    .dataframe tbody tr th:only-of-type {\n",
       "        vertical-align: middle;\n",
       "    }\n",
       "\n",
       "    .dataframe tbody tr th {\n",
       "        vertical-align: top;\n",
       "    }\n",
       "\n",
       "    .dataframe thead th {\n",
       "        text-align: right;\n",
       "    }\n",
       "</style>\n",
       "<table border=\"1\" class=\"dataframe\">\n",
       "  <thead>\n",
       "    <tr style=\"text-align: right;\">\n",
       "      <th></th>\n",
       "      <th>TSupCor.T</th>\n",
       "      <th>flo.temAirPer5.T</th>\n",
       "      <th>VSupCor_flow.V_flow</th>\n",
       "    </tr>\n",
       "    <tr>\n",
       "      <th>Time</th>\n",
       "      <th></th>\n",
       "      <th></th>\n",
       "      <th></th>\n",
       "    </tr>\n",
       "  </thead>\n",
       "  <tbody>\n",
       "    <tr>\n",
       "      <th>1970-01-01 00:00:00</th>\n",
       "      <td>293.150</td>\n",
       "      <td>293.150</td>\n",
       "      <td>1.280000e-12</td>\n",
       "    </tr>\n",
       "    <tr>\n",
       "      <th>1970-01-01 00:00:10</th>\n",
       "      <td>293.189</td>\n",
       "      <td>293.151</td>\n",
       "      <td>1.148860e-03</td>\n",
       "    </tr>\n",
       "    <tr>\n",
       "      <th>1970-01-01 00:00:20</th>\n",
       "      <td>293.290</td>\n",
       "      <td>293.152</td>\n",
       "      <td>1.148240e-03</td>\n",
       "    </tr>\n",
       "    <tr>\n",
       "      <th>1970-01-01 00:00:30</th>\n",
       "      <td>293.357</td>\n",
       "      <td>293.153</td>\n",
       "      <td>1.148240e-03</td>\n",
       "    </tr>\n",
       "    <tr>\n",
       "      <th>1970-01-01 00:00:40</th>\n",
       "      <td>293.402</td>\n",
       "      <td>293.153</td>\n",
       "      <td>1.148230e-03</td>\n",
       "    </tr>\n",
       "  </tbody>\n",
       "</table>\n",
       "</div>"
      ],
      "text/plain": [
       "                     TSupCor.T  flo.temAirPer5.T  VSupCor_flow.V_flow\n",
       "Time                                                                 \n",
       "1970-01-01 00:00:00    293.150           293.150         1.280000e-12\n",
       "1970-01-01 00:00:10    293.189           293.151         1.148860e-03\n",
       "1970-01-01 00:00:20    293.290           293.152         1.148240e-03\n",
       "1970-01-01 00:00:30    293.357           293.153         1.148240e-03\n",
       "1970-01-01 00:00:40    293.402           293.153         1.148230e-03"
      ]
     },
     "execution_count": 12,
     "metadata": {},
     "output_type": "execute_result"
    }
   ],
   "source": [
    "## re_read data\n",
    "data_with_Timestamps_resampled = read_Data(workingPath+\"\\\\One_Month.csv\")\n",
    "data_with_Timestamps_resampled.head()"
   ]
  },
  {
   "cell_type": "code",
   "execution_count": 13,
   "metadata": {},
   "outputs": [],
   "source": [
    "data_with_Timestamps_resampled = data_with_Timestamps_resampled.drop_duplicates().bfill()\n",
    "\n",
    "data_with_Timestamps_resampled = data_with_Timestamps_resampled.iloc[0:1,:].append(data_with_Timestamps_resampled.iloc[1:,:].resample(\"10T\",label =\"right\").mean()).bfill()  "
   ]
  },
  {
   "cell_type": "code",
   "execution_count": 14,
   "metadata": {},
   "outputs": [
    {
     "data": {
      "text/html": [
       "<div>\n",
       "<style scoped>\n",
       "    .dataframe tbody tr th:only-of-type {\n",
       "        vertical-align: middle;\n",
       "    }\n",
       "\n",
       "    .dataframe tbody tr th {\n",
       "        vertical-align: top;\n",
       "    }\n",
       "\n",
       "    .dataframe thead th {\n",
       "        text-align: right;\n",
       "    }\n",
       "</style>\n",
       "<table border=\"1\" class=\"dataframe\">\n",
       "  <thead>\n",
       "    <tr style=\"text-align: right;\">\n",
       "      <th></th>\n",
       "      <th>TSupCor.T</th>\n",
       "      <th>flo.temAirPer5.T</th>\n",
       "      <th>VSupCor_flow.V_flow</th>\n",
       "    </tr>\n",
       "    <tr>\n",
       "      <th>Time</th>\n",
       "      <th></th>\n",
       "      <th></th>\n",
       "      <th></th>\n",
       "    </tr>\n",
       "  </thead>\n",
       "  <tbody>\n",
       "    <tr>\n",
       "      <th>1970-01-01 00:00:00</th>\n",
       "      <td>293.150000</td>\n",
       "      <td>293.150000</td>\n",
       "      <td>1.280000e-12</td>\n",
       "    </tr>\n",
       "    <tr>\n",
       "      <th>1970-01-01 00:10:00</th>\n",
       "      <td>294.827469</td>\n",
       "      <td>293.044281</td>\n",
       "      <td>1.147127e-03</td>\n",
       "    </tr>\n",
       "    <tr>\n",
       "      <th>1970-01-01 00:20:00</th>\n",
       "      <td>299.451500</td>\n",
       "      <td>292.677700</td>\n",
       "      <td>1.138635e-03</td>\n",
       "    </tr>\n",
       "    <tr>\n",
       "      <th>1970-01-01 00:30:00</th>\n",
       "      <td>302.780700</td>\n",
       "      <td>292.526000</td>\n",
       "      <td>1.130974e-03</td>\n",
       "    </tr>\n",
       "    <tr>\n",
       "      <th>1970-01-01 00:40:00</th>\n",
       "      <td>305.696636</td>\n",
       "      <td>292.438409</td>\n",
       "      <td>1.129829e-03</td>\n",
       "    </tr>\n",
       "  </tbody>\n",
       "</table>\n",
       "</div>"
      ],
      "text/plain": [
       "                      TSupCor.T  flo.temAirPer5.T  VSupCor_flow.V_flow\n",
       "Time                                                                  \n",
       "1970-01-01 00:00:00  293.150000        293.150000         1.280000e-12\n",
       "1970-01-01 00:10:00  294.827469        293.044281         1.147127e-03\n",
       "1970-01-01 00:20:00  299.451500        292.677700         1.138635e-03\n",
       "1970-01-01 00:30:00  302.780700        292.526000         1.130974e-03\n",
       "1970-01-01 00:40:00  305.696636        292.438409         1.129829e-03"
      ]
     },
     "execution_count": 14,
     "metadata": {},
     "output_type": "execute_result"
    }
   ],
   "source": [
    "data_with_Timestamps_resampled.head()"
   ]
  },
  {
   "cell_type": "code",
   "execution_count": 15,
   "metadata": {},
   "outputs": [
    {
     "data": {
      "text/html": [
       "<div>\n",
       "<style scoped>\n",
       "    .dataframe tbody tr th:only-of-type {\n",
       "        vertical-align: middle;\n",
       "    }\n",
       "\n",
       "    .dataframe tbody tr th {\n",
       "        vertical-align: top;\n",
       "    }\n",
       "\n",
       "    .dataframe thead th {\n",
       "        text-align: right;\n",
       "    }\n",
       "</style>\n",
       "<table border=\"1\" class=\"dataframe\">\n",
       "  <thead>\n",
       "    <tr style=\"text-align: right;\">\n",
       "      <th></th>\n",
       "      <th>TSupCor.T</th>\n",
       "      <th>flo.temAirPer5.T</th>\n",
       "      <th>VSupCor_flow.V_flow</th>\n",
       "    </tr>\n",
       "    <tr>\n",
       "      <th>Time</th>\n",
       "      <th></th>\n",
       "      <th></th>\n",
       "      <th></th>\n",
       "    </tr>\n",
       "  </thead>\n",
       "  <tbody>\n",
       "    <tr>\n",
       "      <th>1970-01-31 23:20:00</th>\n",
       "      <td>315.5110</td>\n",
       "      <td>295.3268</td>\n",
       "      <td>0.001024</td>\n",
       "    </tr>\n",
       "    <tr>\n",
       "      <th>1970-01-31 23:30:00</th>\n",
       "      <td>316.5482</td>\n",
       "      <td>295.2827</td>\n",
       "      <td>0.001197</td>\n",
       "    </tr>\n",
       "    <tr>\n",
       "      <th>1970-01-31 23:40:00</th>\n",
       "      <td>317.6777</td>\n",
       "      <td>295.2401</td>\n",
       "      <td>0.001718</td>\n",
       "    </tr>\n",
       "    <tr>\n",
       "      <th>1970-01-31 23:50:00</th>\n",
       "      <td>316.9375</td>\n",
       "      <td>295.1957</td>\n",
       "      <td>0.002532</td>\n",
       "    </tr>\n",
       "    <tr>\n",
       "      <th>1970-02-01 00:00:00</th>\n",
       "      <td>312.1834</td>\n",
       "      <td>295.1434</td>\n",
       "      <td>0.002805</td>\n",
       "    </tr>\n",
       "  </tbody>\n",
       "</table>\n",
       "</div>"
      ],
      "text/plain": [
       "                     TSupCor.T  flo.temAirPer5.T  VSupCor_flow.V_flow\n",
       "Time                                                                 \n",
       "1970-01-31 23:20:00   315.5110          295.3268             0.001024\n",
       "1970-01-31 23:30:00   316.5482          295.2827             0.001197\n",
       "1970-01-31 23:40:00   317.6777          295.2401             0.001718\n",
       "1970-01-31 23:50:00   316.9375          295.1957             0.002532\n",
       "1970-02-01 00:00:00   312.1834          295.1434             0.002805"
      ]
     },
     "execution_count": 15,
     "metadata": {},
     "output_type": "execute_result"
    }
   ],
   "source": [
    "data_with_Timestamps_resampled.tail()"
   ]
  },
  {
   "cell_type": "code",
   "execution_count": 16,
   "metadata": {},
   "outputs": [
    {
     "data": {
      "text/plain": [
       "(4465, 3)"
      ]
     },
     "execution_count": 16,
     "metadata": {},
     "output_type": "execute_result"
    }
   ],
   "source": [
    "data_with_Timestamps_resampled.shape"
   ]
  },
  {
   "cell_type": "code",
   "execution_count": 21,
   "metadata": {},
   "outputs": [],
   "source": [
    "prediction_horizon_n = int(TimeInterval_Parser(PredictionHorizon)/TimeInterval_Parser(TimeInterval))\n",
    "#time_lags = [1,36,72]\n",
    "time_lags= [1,2,3]\n",
    "lags = 144\n",
    "#144\n",
    "#[1,2,3,4,5,6,12,18,36,72,144]"
   ]
  },
  {
   "cell_type": "code",
   "execution_count": 22,
   "metadata": {},
   "outputs": [
    {
     "name": "stderr",
     "output_type": "stream",
     "text": [
      "C:\\ProgramData\\Anaconda3\\lib\\site-packages\\numpy\\core\\fromnumeric.py:2389: FutureWarning: Method .ptp is deprecated and will be removed in a future version. Use numpy.ptp instead.\n",
      "  return ptp(axis=axis, out=out, **kwargs)\n"
     ]
    },
    {
     "data": {
      "image/png": "[encoded data removed]",
      "text/plain": [
       "<Figure size 432x288 with 1 Axes>"
      ]
     },
     "metadata": {
      "needs_background": "light"
     },
     "output_type": "display_data"
    }
   ],
   "source": [
    "dataSetX_All,dataSetY_All = pre_Process(data_with_Timestamps_resampled,Weather_Data_resampled,TimeInterval,time_lags,prediction_horizon = prediction_horizon_n)"
   ]
  },
  {
   "cell_type": "markdown",
   "metadata": {},
   "source": [
    "<br id ='Visualization'>\n",
    "\n",
    "### Visualize the data before constructing models"
   ]
  },
  {
   "cell_type": "code",
   "execution_count": 16,
   "metadata": {},
   "outputs": [],
   "source": [
    "from pandas.plotting import autocorrelation_plot"
   ]
  },
  {
   "cell_type": "code",
   "execution_count": 18,
   "metadata": {},
   "outputs": [
    {
     "data": {
      "text/plain": [
       "<matplotlib.axes._subplots.AxesSubplot at 0x228b6dff3c8>"
      ]
     },
     "execution_count": 18,
     "metadata": {},
     "output_type": "execute_result"
    },
    {
     "data": {
      "image/png": "[encoded data removed]",
      "text/plain": [
       "<Figure size 432x288 with 1 Axes>"
      ]
     },
     "metadata": {
      "needs_background": "light"
     },
     "output_type": "display_data"
    }
   ],
   "source": [
    "autocorrelation_plot(data_with_Timestamps_resampled.iloc[:,1])"
   ]
  },
  {
   "cell_type": "markdown",
   "metadata": {},
   "source": [
    "<br id=\"Construct_ARX_models\">\n",
    "\n",
    "### construct RNN models \n",
    "\n",
    "```flow\n",
    " prepare data(normalize)--> training --> Model fitting \n",
    "```"
   ]
  },
  {
   "cell_type": "markdown",
   "metadata": {},
   "source": [
    "Feature Generation\n",
    "  * Category 1:\n",
    "     * History data(Autoregressive term)\n",
    "         1. t-1\n",
    "     * Exogenous variables\n",
    "     \n",
    "| Items| Type  |\n",
    "|:------:|------|\n",
    "|1. Outdoor air temperature|numerical|\n",
    "|2. Solar radiation|numerical|       \n",
    "|3. Occupant| Categorical(binary)|\n",
    "|4. Equipment|numerical|\n",
    "|5. Lighting|numerical|\n",
    "|6. Supply air temperature|numerical|\n",
    "|7. Supply air flowrate    |numerical|\n",
    "\n",
    "         "
   ]
  },
  {
   "cell_type": "markdown",
   "metadata": {},
   "source": [
    "#### walk-forward model validation"
   ]
  },
  {
   "cell_type": "code",
   "execution_count": 17,
   "metadata": {},
   "outputs": [],
   "source": [
    "from pandas import DataFrame\n",
    "from pandas import concat"
   ]
  },
  {
   "cell_type": "code",
   "execution_count": 25,
   "metadata": {},
   "outputs": [],
   "source": [
    "def timeseries_to_multi_step(X,step = 144):\n",
    "    re = []\n",
    "    for i in range(X.shape[1]):\n",
    "        columns = np.transpose([X.iloc[:,i].shift(j+1).fillna(0) for j in range(step)])\n",
    "        re.append(columns)\n",
    "    re = np.swapaxes(np.swapaxes(np.array(re),0,2),0,1)\n",
    "    return re"
   ]
  },
  {
   "cell_type": "code",
   "execution_count": 23,
   "metadata": {},
   "outputs": [],
   "source": [
    "# transform to multi steps dataset\n",
    "dataX = timeseries_to_multi_step(dataSetX_All[['TSupCor.T', 'VSupCor_flow.V_flow','InternalGain','Dry Bulb Temperature {C}','occup']],lags)\n",
    "dataY = dataSetY_All\n",
    "\n",
    "# truncate head and tail\n",
    "dataX = dataX[144:-36]\n",
    "dataX2 = np.reshape(np.array(dataY.iloc[143:-37,:-1]),(-1,36,1))\n",
    "dataY = np.reshape(np.array(dataY.iloc[144:-36,:-1]),(-1,36,1))"
   ]
  },
  {
   "cell_type": "code",
   "execution_count": 479,
   "metadata": {},
   "outputs": [],
   "source": [
    "#Each time step of the test dataset will be walked one at a time."
   ]
  },
  {
   "cell_type": "code",
   "execution_count": 27,
   "metadata": {},
   "outputs": [],
   "source": [
    "data_temp = timeseries_to_supervised(dataY[:,0,:],3)\n",
    "\n",
    "dataX_temp = np.reshape(data_temp.iloc[3:,0:3].values,(-1,1,3))\n",
    "dataY_temp = data_temp.iloc[3:,-1]"
   ]
  },
  {
   "cell_type": "code",
   "execution_count": 28,
   "metadata": {},
   "outputs": [],
   "source": [
    "# Split the data into training/testing sets\n",
    "## Ratio of training sets to testing set: **5:1**\n",
    "dataSetX_Temp =  dataSetX_All.iloc[147:-36,:]\n",
    "dataSetY_Temp =  dataSetY_All.iloc[147:-36,:]\n",
    "\n",
    "ratio = 1/5\n",
    "splitting_Point = int(len(dataSetX_Temp)*4/5)\n",
    "dataSetX_train, dataSetX_test = dataSetX_Temp.iloc[:splitting_Point,:],dataSetX_Temp.iloc[splitting_Point:,:]\n",
    "\n",
    "dataSetY_train, dataSetY_test = dataSetY_Temp.iloc[:splitting_Point,:],dataSetY_Temp.iloc[splitting_Point:,:]"
   ]
  },
  {
   "cell_type": "code",
   "execution_count": 29,
   "metadata": {},
   "outputs": [],
   "source": [
    "yhat0 = dataY_temp.shift(1)\n",
    "yhat0.iloc[0] = yhat0.iloc[1] "
   ]
  },
  {
   "cell_type": "code",
   "execution_count": 30,
   "metadata": {},
   "outputs": [
    {
     "data": {
      "text/plain": [
       "[<matplotlib.lines.Line2D at 0x245b7ffd438>]"
      ]
     },
     "execution_count": 30,
     "metadata": {},
     "output_type": "execute_result"
    },
    {
     "data": {
      "image/png": "[encoded data removed]",
      "text/plain": [
       "<Figure size 432x288 with 1 Axes>"
      ]
     },
     "metadata": {
      "needs_background": "light"
     },
     "output_type": "display_data"
    }
   ],
   "source": [
    "plt.plot(yhat0)"
   ]
  },
  {
   "cell_type": "code",
   "execution_count": 31,
   "metadata": {},
   "outputs": [
    {
     "data": {
      "text/plain": [
       "[<matplotlib.lines.Line2D at 0x245b9e95cc0>]"
      ]
     },
     "execution_count": 31,
     "metadata": {},
     "output_type": "execute_result"
    },
    {
     "data": {
      "image/png": "[encoded data removed]",
      "text/plain": [
       "<Figure size 432x288 with 1 Axes>"
      ]
     },
     "metadata": {
      "needs_background": "light"
     },
     "output_type": "display_data"
    }
   ],
   "source": [
    "plt.plot(yhat0[-len(dataSetY_test):])"
   ]
  },
  {
   "cell_type": "code",
   "execution_count": 32,
   "metadata": {
    "scrolled": true
   },
   "outputs": [
    {
     "name": "stderr",
     "output_type": "stream",
     "text": [
      "C:\\ProgramData\\Anaconda3\\lib\\site-packages\\pandas\\plotting\\_converter.py:129: FutureWarning: Using an implicitly registered datetime converter for a matplotlib plotting method. The converter was registered by pandas on import. Future versions of pandas will require you to explicitly register matplotlib converters.\n",
      "\n",
      "To register the converters:\n",
      "\t>>> from pandas.plotting import register_matplotlib_converters\n",
      "\t>>> register_matplotlib_converters()\n",
      "  warnings.warn(msg, FutureWarning)\n"
     ]
    },
    {
     "data": {
      "text/plain": [
       "[<matplotlib.lines.Line2D at 0x245b9ec9c18>]"
      ]
     },
     "execution_count": 32,
     "metadata": {},
     "output_type": "execute_result"
    },
    {
     "data": {
      "image/png": "[encoded data removed]",
      "text/plain": [
       "<Figure size 432x288 with 1 Axes>"
      ]
     },
     "metadata": {
      "needs_background": "light"
     },
     "output_type": "display_data"
    }
   ],
   "source": [
    "plt.plot(dataSetY_test.iloc[:,0])"
   ]
  },
  {
   "cell_type": "code",
   "execution_count": 107,
   "metadata": {},
   "outputs": [
    {
     "data": {
      "text/plain": [
       "[<matplotlib.lines.Line2D at 0x161f77f9668>]"
      ]
     },
     "execution_count": 107,
     "metadata": {},
     "output_type": "execute_result"
    },
    {
     "data": {
      "image/png": "[encoded data removed]",
      "text/plain": [
       "<Figure size 432x288 with 1 Axes>"
      ]
     },
     "metadata": {
      "needs_background": "light"
     },
     "output_type": "display_data"
    },
    {
     "data": {
      "image/png": "[encoded data removed]",
      "text/plain": [
       "<Figure size 432x288 with 1 Axes>"
      ]
     },
     "metadata": {
      "needs_background": "light"
     },
     "output_type": "display_data"
    }
   ],
   "source": [
    "plt.plot(np.arange(len(dataSetY_test)),yhat0[-len(dataSetY_test):])\n",
    "plt.plot(np.arange(len(dataSetY_test)),dataSetY_test.iloc[:,0])\n",
    "\n",
    "plt.figure()\n",
    "plt.plot(np.arange(50),yhat0[-len(dataSetY_test):-len(dataSetY_test)+50])\n",
    "plt.plot(np.arange(50),dataSetY_test.iloc[:50,0])"
   ]
  },
  {
   "cell_type": "markdown",
   "metadata": {},
   "source": [
    "#### Encoder-Decoder Model"
   ]
  },
  {
   "cell_type": "code",
   "execution_count": 46,
   "metadata": {},
   "outputs": [],
   "source": [
    "# returns train, inference_encoder and inference_decoder models\n",
    "def define_models(n_input, n_output, n_units):\n",
    "    # define training encoder\n",
    "    encoder_inputs = Input(shape=(None, n_input))\n",
    "    encoder = LSTM(n_units, return_state=True)\n",
    "    encoder_outputs, state_h, state_c = encoder(encoder_inputs)\n",
    "    encoder_states = [state_h, state_c]\n",
    "    # define training decoder\n",
    "    decoder_inputs = Input(shape=(None, n_output))\n",
    "    decoder_lstm = LSTM(n_units, return_sequences=True, return_state=True)\n",
    "    decoder_outputs, _, _ = decoder_lstm(decoder_inputs, initial_state=encoder_states)\n",
    "    decoder_dense = Dense(n_output, activation='softmax')\n",
    "    decoder_outputs = decoder_dense(decoder_outputs)\n",
    "    model = Model([encoder_inputs, decoder_inputs], decoder_outputs)\n",
    "    # define inference encoder\n",
    "    encoder_model = Model(encoder_inputs, encoder_states)\n",
    "    # define inference decoder\n",
    "    decoder_state_input_h = Input(shape=(n_units,))\n",
    "    decoder_state_input_c = Input(shape=(n_units,))\n",
    "    decoder_states_inputs = [decoder_state_input_h, decoder_state_input_c]\n",
    "    decoder_outputs, state_h, state_c = decoder_lstm(decoder_inputs, initial_state=decoder_states_inputs)\n",
    "    decoder_states = [state_h, state_c]\n",
    "    decoder_outputs = decoder_dense(decoder_outputs)\n",
    "    decoder_model = Model([decoder_inputs] + decoder_states_inputs, [decoder_outputs] + decoder_states)\n",
    "    # return all models\n",
    "    return model, encoder_model, decoder_model\n",
    "\n",
    "# generate target given source sequence\n",
    "def predict_sequence(infenc, infdec, source, n_steps, cardinality):\n",
    "    # encode\n",
    "    state = infenc.predict(source)\n",
    "    # start of sequence input\n",
    "    target_seq = array([0.0 for _ in range(cardinality)]).reshape(1, 1, cardinality)\n",
    "    # collect predictions\n",
    "    output = list()\n",
    "    for t in range(n_steps):\n",
    "        # predict next char\n",
    "        yhat, h, c = infdec.predict([target_seq] + state)\n",
    "        # store prediction\n",
    "        output.append(yhat[0,0,:])\n",
    "        # update state\n",
    "        state = [h, c]\n",
    "        # update target sequence\n",
    "        target_seq = yhat\n",
    "    return array(output)"
   ]
  },
  {
   "cell_type": "code",
   "execution_count": 47,
   "metadata": {},
   "outputs": [],
   "source": [
    "# generate a sequence of random integers\n",
    "def generate_sequence(length, n_unique):\n",
    "\treturn [randint(1, n_unique-1) for _ in range(length)]\n",
    "\n",
    "# prepare data for the LSTM\n",
    "def get_dataset(n_in, n_out, cardinality, n_samples):\n",
    "\tX1, X2, y = list(), list(), list()\n",
    "\tfor _ in range(n_samples):\n",
    "\t\t# generate source sequence\n",
    "\t\tsource = generate_sequence(n_in, cardinality)\n",
    "\t\t# define padded target sequence\n",
    "\t\ttarget = source[:n_out]\n",
    "\t\ttarget.reverse()\n",
    "\t\t# create padded input target sequence\n",
    "\t\ttarget_in = [0] + target[:-1]\n",
    "\t\t# encode\n",
    "\t\tsrc_encoded = to_categorical(source, num_classes=cardinality)\n",
    "\t\ttar_encoded = to_categorical(target, num_classes=cardinality)\n",
    "\t\ttar2_encoded = to_categorical(target_in, num_classes=cardinality)\n",
    "\t\t# store\n",
    "\t\tX1.append(src_encoded)\n",
    "\t\tX2.append(tar2_encoded)\n",
    "\t\ty.append(tar_encoded)\n",
    "\treturn array(X1), array(X2), array(y)\n",
    "\n",
    "# decode a one hot encoded string\n",
    "def one_hot_decode(encoded_seq):\n",
    "\treturn [argmax(vector) for vector in encoded_seq]"
   ]
  },
  {
   "cell_type": "code",
   "execution_count": 48,
   "metadata": {},
   "outputs": [],
   "source": [
    "# generate training dataset\n",
    "X1, X2, y = get_dataset(6, 3, 51, 100000)"
   ]
  },
  {
   "cell_type": "code",
   "execution_count": 49,
   "metadata": {},
   "outputs": [
    {
     "data": {
      "text/plain": [
       "(100000, 3, 51)"
      ]
     },
     "execution_count": 49,
     "metadata": {},
     "output_type": "execute_result"
    }
   ],
   "source": [
    "y.shape"
   ]
  },
  {
   "cell_type": "code",
   "execution_count": 50,
   "metadata": {},
   "outputs": [
    {
     "name": "stdout",
     "output_type": "stream",
     "text": [
      "Epoch 1/1\n",
      "100000/100000 [==============================] - 37s 366us/step - loss: 0.6483\n"
     ]
    },
    {
     "data": {
      "text/plain": [
       "<keras.callbacks.History at 0x245d78f7c50>"
      ]
     },
     "execution_count": 50,
     "metadata": {},
     "output_type": "execute_result"
    }
   ],
   "source": [
    "# define model\n",
    "train1, infenc1, infdec1 = define_models(51, 51,128)\n",
    "train1.compile(optimizer = 'adam',loss='categorical_crossentropy')\n",
    "train1.fit([X1,X2],y,epochs = 1)"
   ]
  },
  {
   "cell_type": "code",
   "execution_count": 51,
   "metadata": {},
   "outputs": [
    {
     "ename": "NameError",
     "evalue": "name 'prediction_horizon' is not defined",
     "output_type": "error",
     "traceback": [
      "\u001b[1;31m---------------------------------------------------------------------------\u001b[0m",
      "\u001b[1;31mNameError\u001b[0m                                 Traceback (most recent call last)",
      "\u001b[1;32m<ipython-input-51-0f42f66b9d14>\u001b[0m in \u001b[0;36m<module>\u001b[1;34m\u001b[0m\n\u001b[0;32m      3\u001b[0m \u001b[0mn_out\u001b[0m \u001b[1;33m=\u001b[0m \u001b[1;36m1\u001b[0m\u001b[1;33m\u001b[0m\u001b[1;33m\u001b[0m\u001b[0m\n\u001b[0;32m      4\u001b[0m \u001b[0mn_steps_in\u001b[0m \u001b[1;33m=\u001b[0m \u001b[0mlags\u001b[0m\u001b[1;33m\u001b[0m\u001b[1;33m\u001b[0m\u001b[0m\n\u001b[1;32m----> 5\u001b[1;33m \u001b[0mn_steps_out\u001b[0m \u001b[1;33m=\u001b[0m \u001b[0mprediction_horizon\u001b[0m\u001b[1;33m\u001b[0m\u001b[1;33m\u001b[0m\u001b[0m\n\u001b[0m\u001b[0;32m      6\u001b[0m \u001b[1;33m\u001b[0m\u001b[0m\n\u001b[0;32m      7\u001b[0m \u001b[1;31m# define model\u001b[0m\u001b[1;33m\u001b[0m\u001b[1;33m\u001b[0m\u001b[1;33m\u001b[0m\u001b[0m\n",
      "\u001b[1;31mNameError\u001b[0m: name 'prediction_horizon' is not defined"
     ]
    }
   ],
   "source": [
    "# configure problem\n",
    "n_features = 5\n",
    "n_out = 1\n",
    "n_steps_in = lags\n",
    "n_steps_out = prediction_horizon\n",
    "\n",
    "# define model\n",
    "train, infenc, infdec = define_models(n_features, n_out,128)\n",
    "train.compile(optimizer = 'adam',loss='mse')\n",
    "\n",
    "# split data into train set and test set\n",
    "ratio = 1/5\n",
    "splitPoint = int(len(dataX)/5*4)\n",
    "dataX_train,dataX_test = dataX[:splitPoint],dataX[splitPoint:]\n",
    "dataX2_train,dataX2_test = dataX2[:splitPoint],dataX2[splitPoint:]\n",
    "dataY_train,dataY_test = dataY[:splitPoint],dataY[splitPoint:]\n",
    "\n",
    "\n",
    "# train model\n",
    "train.fit([dataX_train,dataX2_train],dataY_train,epochs = 10)"
   ]
  },
  {
   "cell_type": "code",
   "execution_count": 169,
   "metadata": {},
   "outputs": [],
   "source": [
    "# Evaluate model\n",
    "target = predict_sequence(infenc,infdec, np.array([dataX_test[0]]),n_steps_out,1)"
   ]
  },
  {
   "cell_type": "code",
   "execution_count": 171,
   "metadata": {},
   "outputs": [],
   "source": [
    "target = predict_sequence(infenc,infdec, np.array([dataX_test[1]]),n_steps_out,1)"
   ]
  },
  {
   "cell_type": "code",
   "execution_count": 173,
   "metadata": {},
   "outputs": [],
   "source": [
    "target = predict_sequence(infenc,infdec, np.array([dataX_test[2]]),n_steps_out,1)"
   ]
  },
  {
   "cell_type": "code",
   "execution_count": 472,
   "metadata": {},
   "outputs": [
    {
     "data": {
      "text/plain": [
       "array([[1.],\n",
       "       [1.],\n",
       "       [1.]], dtype=float32)"
      ]
     },
     "execution_count": 472,
     "metadata": {},
     "output_type": "execute_result"
    }
   ],
   "source": [
    "target"
   ]
  },
  {
   "cell_type": "code",
   "execution_count": 232,
   "metadata": {},
   "outputs": [
    {
     "name": "stdout",
     "output_type": "stream",
     "text": [
      "(100000, 6, 51) (100000, 3, 51) (100000, 3, 51)\n"
     ]
    }
   ],
   "source": [
    "# configure problem\n",
    "n_features = 51\n",
    "n_steps_in = 6\n",
    "n_steps_out = 3\n",
    "# define model\n",
    "train, infenc, infdec = define_models(1, 1, 128)\n",
    "train.compile(optimizer='adam', loss='mse', metrics=['acc'])\n",
    "# generate training dataset\n",
    "X1, X2, y = get_dataset(n_steps_in, n_steps_out, n_features, 100000)\n",
    "print(X1.shape,X2.shape,y.shape)"
   ]
  },
  {
   "cell_type": "code",
   "execution_count": 233,
   "metadata": {},
   "outputs": [],
   "source": [
    "X1_single = []\n",
    "for x1 in X1:\n",
    "    X1_single.append(one_hot_decode(x1))\n",
    "X1_single = np.reshape(X1_single,(100000,6,1))\n",
    "X2_single = []\n",
    "for x2 in X2:\n",
    "    X2_single.append(one_hot_decode(x2))\n",
    "X2_single = np.reshape(X2_single,(100000,3,1))\n",
    "y_single = []\n",
    "for ydot in y:\n",
    "    y_single.append(one_hot_decode(ydot))\n",
    "y_single = np.reshape(y_single,(100000,3,1))"
   ]
  },
  {
   "cell_type": "code",
   "execution_count": 234,
   "metadata": {},
   "outputs": [
    {
     "name": "stdout",
     "output_type": "stream",
     "text": [
      "Epoch 1/1\n",
      "100000/100000 [==============================] - 38s 378us/step - loss: 807.8126 - acc: 0.0200\n"
     ]
    },
    {
     "data": {
      "text/plain": [
       "<keras.callbacks.History at 0x229431da5f8>"
      ]
     },
     "execution_count": 234,
     "metadata": {},
     "output_type": "execute_result"
    }
   ],
   "source": [
    "# train model\n",
    "train.fit([X1_single, X2_single], y_single, epochs=1)"
   ]
  },
  {
   "cell_type": "code",
   "execution_count": 237,
   "metadata": {},
   "outputs": [
    {
     "data": {
      "text/plain": [
       "[array([[37],\n",
       "        [20],\n",
       "        [ 2],\n",
       "        [ 3],\n",
       "        [22],\n",
       "        [38]], dtype=int64)]"
      ]
     },
     "execution_count": 237,
     "metadata": {},
     "output_type": "execute_result"
    }
   ],
   "source": [
    "[X1_single[0,:,:]]"
   ]
  },
  {
   "cell_type": "code",
   "execution_count": 238,
   "metadata": {},
   "outputs": [],
   "source": [
    "target = predict_sequence(infenc, infdec, np.reshape(X1_single[0,:,:],(1,6,1)), n_steps_out, 1)"
   ]
  },
  {
   "cell_type": "code",
   "execution_count": 239,
   "metadata": {},
   "outputs": [
    {
     "data": {
      "text/plain": [
       "array([[1.],\n",
       "       [1.],\n",
       "       [1.]], dtype=float32)"
      ]
     },
     "execution_count": 239,
     "metadata": {},
     "output_type": "execute_result"
    }
   ],
   "source": [
    "target"
   ]
  },
  {
   "cell_type": "code",
   "execution_count": null,
   "metadata": {},
   "outputs": [],
   "source": [
    "# train model\n",
    "train.fit([X1, X2], y, epochs=1)\n",
    "# evaluate LSTM\n",
    "total, correct = 100, 0\n",
    "for _ in range(total):\n",
    "\tX1, X2, y = get_dataset(n_steps_in, n_steps_out, n_features, 1)\n",
    "\ttarget = predict_sequence(infenc, infdec, X1, n_steps_out, n_features)\n",
    "\tif array_equal(one_hot_decode(y[0]), one_hot_decode(target)):\n",
    "\t\tcorrect += 1\n",
    "print('Accuracy: %.2f%%' % (float(correct)/float(total)*100.0))\n",
    "# spot check some examples\n",
    "for _ in range(10):\n",
    "\tX1, X2, y = get_dataset(n_steps_in, n_steps_out, n_features, 1)\n",
    "\ttarget = predict_sequence(infenc, infdec, X1, n_steps_out, n_features)\n",
    "\tprint('X=%s y=%s, yhat=%s' % (one_hot_decode(X1[0]), one_hot_decode(y[0]), one_hot_decode(target)))"
   ]
  },
  {
   "cell_type": "markdown",
   "metadata": {},
   "source": [
    "#### ARX model(auto-regressive model with External variable)"
   ]
  },
  {
   "cell_type": "code",
   "execution_count": 20,
   "metadata": {},
   "outputs": [],
   "source": [
    "from statsmodels.tools import add_constant "
   ]
  },
  {
   "cell_type": "code",
   "execution_count": 21,
   "metadata": {},
   "outputs": [],
   "source": [
    "import statsmodels\n",
    "from statsmodels.tsa.arima_model import ARIMA\n",
    "from sklearn.metrics import mean_squared_error, r2_score"
   ]
  },
  {
   "cell_type": "code",
   "execution_count": 22,
   "metadata": {},
   "outputs": [],
   "source": [
    "from statsmodels.regression.linear_model import OLS"
   ]
  },
  {
   "cell_type": "code",
   "execution_count": 31,
   "metadata": {},
   "outputs": [],
   "source": [
    "# Split the data into training/testing sets\n",
    "## Ratio of training sets to testing set: **5:1**\n",
    "dataSetX_Temp =  dataSetX_All.iloc[147:-36,:]\n",
    "dataSetY_Temp =  dataSetY_All.iloc[147:-36,:]\n",
    "\n",
    "ratio = 1/5\n",
    "splitting_Point = int(len(dataSetX_Temp)*4/5)\n",
    "dataSetX_train, dataSetX_test = dataSetX_Temp.iloc[:splitting_Point,:],dataSetX_Temp.iloc[splitting_Point:,:]\n",
    "\n",
    "dataSetY_train, dataSetY_test = dataSetY_Temp.iloc[:splitting_Point,:],dataSetY_Temp.iloc[splitting_Point:,:]"
   ]
  },
  {
   "cell_type": "code",
   "execution_count": 428,
   "metadata": {},
   "outputs": [
    {
     "data": {
      "text/plain": [
       "(4243, 18)"
      ]
     },
     "execution_count": 428,
     "metadata": {},
     "output_type": "execute_result"
    }
   ],
   "source": [
    "dataSetX_Temp.shape"
   ]
  },
  {
   "cell_type": "code",
   "execution_count": 416,
   "metadata": {},
   "outputs": [],
   "source": [
    "#define model\n",
    "regr = OLS(dataSetY_train.iloc[:,0],dataSetX_train.iloc[:,:9])\n",
    "result_Model = regr.fit()"
   ]
  },
  {
   "cell_type": "code",
   "execution_count": 417,
   "metadata": {},
   "outputs": [],
   "source": [
    "yhat4 = result_Model.predict(dataSetX_test.iloc[:,:9])"
   ]
  },
  {
   "cell_type": "code",
   "execution_count": 418,
   "metadata": {
    "scrolled": true
   },
   "outputs": [
    {
     "data": {
      "text/plain": [
       "(850,)"
      ]
     },
     "execution_count": 418,
     "metadata": {},
     "output_type": "execute_result"
    }
   ],
   "source": [
    "yhat4.shape"
   ]
  },
  {
   "cell_type": "code",
   "execution_count": 448,
   "metadata": {},
   "outputs": [
    {
     "data": {
      "text/plain": [
       "[<matplotlib.lines.Line2D at 0x2297fd5ca58>]"
      ]
     },
     "execution_count": 448,
     "metadata": {},
     "output_type": "execute_result"
    },
    {
     "data": {
      "image/png": "[encoded data removed]",
      "text/plain": [
       "<Figure size 432x288 with 1 Axes>"
      ]
     },
     "metadata": {
      "needs_background": "light"
     },
     "output_type": "display_data"
    },
    {
     "data": {
      "image/png": "[encoded data removed]",
      "text/plain": [
       "<Figure size 432x288 with 1 Axes>"
      ]
     },
     "metadata": {
      "needs_background": "light"
     },
     "output_type": "display_data"
    }
   ],
   "source": [
    "plt.plot(yhat4)\n",
    "plt.plot(dataSetY_test.iloc[:,0])\n",
    "\n",
    "plt.figure()\n",
    "plt.plot(yhat4[:50])\n",
    "plt.plot(dataSetY_test.iloc[:50,0])"
   ]
  },
  {
   "cell_type": "markdown",
   "metadata": {},
   "source": [
    "#### MLP model\n",
    "Still can be improved by\n",
    "* shuffle vs No shuffle\n",
    "* Normalization method\n",
    "* Multiple layers\n",
    "* feature engineering"
   ]
  },
  {
   "cell_type": "code",
   "execution_count": 84,
   "metadata": {},
   "outputs": [],
   "source": [
    "n_steps = 1\n",
    "n_features = 3\n",
    "# define model\n",
    "model = Sequential()\n",
    "\n",
    "model.add(Dense(50, activation='relu',input_shape = (1,3)))\n",
    "model.add(Dense(1))\n",
    "model.compile(optimizer='adam', loss='mse')\n",
    "\n",
    "dataX_temp = np.reshape(data_temp.iloc[3:,0:3].values,(-1,1,3))\n",
    "dataY_temp = np.reshape(data_temp.iloc[3:,-1].values, (-1,1,1))\n",
    "# Split dataset into train set and test set,split ratio 4:1\n",
    "splitting_Point = int(len(dataX_temp)*4/5)\n",
    "dataX_temp_train,dataX_temp_test = dataX_temp[:splitting_Point],dataX_temp[splitting_Point:]\n",
    "dataY_temp_train,dataY_temp_test = dataY_temp[:splitting_Point],dataY_temp[splitting_Point:]"
   ]
  },
  {
   "cell_type": "code",
   "execution_count": 52,
   "metadata": {},
   "outputs": [
    {
     "data": {
      "text/plain": [
       "(3394, 1, 1)"
      ]
     },
     "execution_count": 52,
     "metadata": {},
     "output_type": "execute_result"
    }
   ],
   "source": [
    "dataY_temp_train.shape"
   ]
  },
  {
   "cell_type": "code",
   "execution_count": 53,
   "metadata": {},
   "outputs": [
    {
     "name": "stdout",
     "output_type": "stream",
     "text": [
      "Epoch 1/10\n",
      "3394/3394 [==============================] - 0s 12us/step - loss: 280.8606\n",
      "Epoch 2/10\n",
      "3394/3394 [==============================] - 0s 11us/step - loss: 0.1791\n",
      "Epoch 3/10\n",
      "3394/3394 [==============================] - 0s 12us/step - loss: 0.1771\n",
      "Epoch 4/10\n",
      "3394/3394 [==============================] - 0s 9us/step - loss: 0.1758\n",
      "Epoch 5/10\n",
      "3394/3394 [==============================] - 0s 11us/step - loss: 0.1794\n",
      "Epoch 6/10\n",
      "3394/3394 [==============================] - 0s 10us/step - loss: 0.1783\n",
      "Epoch 7/10\n",
      "3394/3394 [==============================] - 0s 11us/step - loss: 0.1773\n",
      "Epoch 8/10\n",
      "3394/3394 [==============================] - 0s 10us/step - loss: 0.1797\n",
      "Epoch 9/10\n",
      "3394/3394 [==============================] - 0s 11us/step - loss: 0.1776\n",
      "Epoch 10/10\n",
      "3394/3394 [==============================] - 0s 9us/step - loss: 0.1789\n"
     ]
    },
    {
     "data": {
      "text/plain": [
       "<keras.callbacks.History at 0x161dbe2c668>"
      ]
     },
     "execution_count": 53,
     "metadata": {},
     "output_type": "execute_result"
    }
   ],
   "source": [
    "# fit model\n",
    "model.fit(dataX_temp_train,dataY_temp_train, epochs=10, verbose=1)"
   ]
  },
  {
   "cell_type": "code",
   "execution_count": 55,
   "metadata": {},
   "outputs": [],
   "source": [
    "# demonstrate prediction\n",
    "yhat2 = model.predict(dataX_temp_test, verbose=0)"
   ]
  },
  {
   "cell_type": "code",
   "execution_count": 58,
   "metadata": {},
   "outputs": [
    {
     "data": {
      "text/plain": [
       "array([[[297.9494 ]],\n",
       "\n",
       "       [[297.98026]],\n",
       "\n",
       "       [[298.02606]],\n",
       "\n",
       "       [[297.81912]],\n",
       "\n",
       "       [[297.35352]],\n",
       "\n",
       "       [[297.00604]],\n",
       "\n",
       "       [[297.2734 ]],\n",
       "\n",
       "       [[297.85214]],\n",
       "\n",
       "       [[298.26907]],\n",
       "\n",
       "       [[298.47214]],\n",
       "\n",
       "       [[298.52213]],\n",
       "\n",
       "       [[298.4651 ]],\n",
       "\n",
       "       [[298.36444]],\n",
       "\n",
       "       [[298.4456 ]],\n",
       "\n",
       "       [[298.39236]],\n",
       "\n",
       "       [[298.3043 ]],\n",
       "\n",
       "       [[298.12302]],\n",
       "\n",
       "       [[298.14816]],\n",
       "\n",
       "       [[298.14603]],\n",
       "\n",
       "       [[298.1809 ]],\n",
       "\n",
       "       [[297.84158]],\n",
       "\n",
       "       [[297.47507]],\n",
       "\n",
       "       [[297.57434]],\n",
       "\n",
       "       [[297.9332 ]],\n",
       "\n",
       "       [[298.05505]],\n",
       "\n",
       "       [[297.79935]],\n",
       "\n",
       "       [[297.66574]],\n",
       "\n",
       "       [[297.52194]],\n",
       "\n",
       "       [[297.3113 ]],\n",
       "\n",
       "       [[297.00662]],\n",
       "\n",
       "       [[296.78006]],\n",
       "\n",
       "       [[296.62067]],\n",
       "\n",
       "       [[296.4849 ]],\n",
       "\n",
       "       [[296.36343]],\n",
       "\n",
       "       [[296.25687]],\n",
       "\n",
       "       [[296.16974]],\n",
       "\n",
       "       [[296.10092]],\n",
       "\n",
       "       [[296.0455 ]],\n",
       "\n",
       "       [[295.99655]],\n",
       "\n",
       "       [[295.9506 ]],\n",
       "\n",
       "       [[295.90546]],\n",
       "\n",
       "       [[295.8603 ]],\n",
       "\n",
       "       [[295.81406]],\n",
       "\n",
       "       [[295.7698 ]],\n",
       "\n",
       "       [[295.73035]],\n",
       "\n",
       "       [[295.6954 ]],\n",
       "\n",
       "       [[295.66226]],\n",
       "\n",
       "       [[295.62885]],\n",
       "\n",
       "       [[295.5923 ]],\n",
       "\n",
       "       [[295.55063]],\n",
       "\n",
       "       [[295.50363]],\n",
       "\n",
       "       [[295.45334]],\n",
       "\n",
       "       [[295.40295]],\n",
       "\n",
       "       [[295.35526]],\n",
       "\n",
       "       [[295.3126 ]],\n",
       "\n",
       "       [[295.2794 ]],\n",
       "\n",
       "       [[295.26334]],\n",
       "\n",
       "       [[295.2568 ]],\n",
       "\n",
       "       [[295.24417]],\n",
       "\n",
       "       [[295.21603]],\n",
       "\n",
       "       [[295.1777 ]],\n",
       "\n",
       "       [[295.13388]],\n",
       "\n",
       "       [[295.08664]],\n",
       "\n",
       "       [[295.03842]],\n",
       "\n",
       "       [[294.9924 ]],\n",
       "\n",
       "       [[294.95306]],\n",
       "\n",
       "       [[294.92386]],\n",
       "\n",
       "       [[294.90237]],\n",
       "\n",
       "       [[294.88208]],\n",
       "\n",
       "       [[294.86124]],\n",
       "\n",
       "       [[294.84262]],\n",
       "\n",
       "       [[294.82733]],\n",
       "\n",
       "       [[294.8127 ]],\n",
       "\n",
       "       [[294.7963 ]],\n",
       "\n",
       "       [[294.77744]],\n",
       "\n",
       "       [[294.75565]],\n",
       "\n",
       "       [[294.73   ]],\n",
       "\n",
       "       [[294.69852]],\n",
       "\n",
       "       [[294.65933]],\n",
       "\n",
       "       [[294.61197]],\n",
       "\n",
       "       [[294.5577 ]],\n",
       "\n",
       "       [[294.49808]],\n",
       "\n",
       "       [[294.43665]],\n",
       "\n",
       "       [[294.3791 ]],\n",
       "\n",
       "       [[294.3306 ]],\n",
       "\n",
       "       [[294.29303]],\n",
       "\n",
       "       [[294.26547]],\n",
       "\n",
       "       [[294.2468 ]],\n",
       "\n",
       "       [[294.23492]],\n",
       "\n",
       "       [[294.22394]],\n",
       "\n",
       "       [[294.20895]],\n",
       "\n",
       "       [[294.18982]],\n",
       "\n",
       "       [[294.16962]],\n",
       "\n",
       "       [[294.14963]],\n",
       "\n",
       "       [[294.37003]],\n",
       "\n",
       "       [[295.145  ]],\n",
       "\n",
       "       [[296.2108 ]],\n",
       "\n",
       "       [[297.05893]],\n",
       "\n",
       "       [[297.39612]],\n",
       "\n",
       "       [[297.46643]],\n",
       "\n",
       "       [[297.43106]],\n",
       "\n",
       "       [[297.5187 ]],\n",
       "\n",
       "       [[297.69553]],\n",
       "\n",
       "       [[297.896  ]],\n",
       "\n",
       "       [[298.08444]],\n",
       "\n",
       "       [[298.14362]],\n",
       "\n",
       "       [[298.01242]],\n",
       "\n",
       "       [[297.84314]],\n",
       "\n",
       "       [[297.88632]],\n",
       "\n",
       "       [[297.99637]],\n",
       "\n",
       "       [[298.07858]],\n",
       "\n",
       "       [[298.1993 ]],\n",
       "\n",
       "       [[298.48102]],\n",
       "\n",
       "       [[298.7313 ]],\n",
       "\n",
       "       [[298.87555]],\n",
       "\n",
       "       [[298.87228]],\n",
       "\n",
       "       [[298.6603 ]],\n",
       "\n",
       "       [[298.279  ]],\n",
       "\n",
       "       [[298.03036]],\n",
       "\n",
       "       [[298.0526 ]],\n",
       "\n",
       "       [[298.25986]],\n",
       "\n",
       "       [[298.44864]],\n",
       "\n",
       "       [[298.56882]],\n",
       "\n",
       "       [[298.64087]],\n",
       "\n",
       "       [[298.8616 ]],\n",
       "\n",
       "       [[298.79263]],\n",
       "\n",
       "       [[298.51822]],\n",
       "\n",
       "       [[298.29865]],\n",
       "\n",
       "       [[298.2869 ]],\n",
       "\n",
       "       [[298.24265]],\n",
       "\n",
       "       [[298.2346 ]],\n",
       "\n",
       "       [[298.40646]],\n",
       "\n",
       "       [[298.5259 ]],\n",
       "\n",
       "       [[298.53372]],\n",
       "\n",
       "       [[298.37424]],\n",
       "\n",
       "       [[297.9236 ]],\n",
       "\n",
       "       [[297.6258 ]],\n",
       "\n",
       "       [[297.32928]],\n",
       "\n",
       "       [[297.42053]],\n",
       "\n",
       "       [[297.65115]],\n",
       "\n",
       "       [[298.17715]],\n",
       "\n",
       "       [[298.39468]],\n",
       "\n",
       "       [[298.24683]],\n",
       "\n",
       "       [[297.87268]],\n",
       "\n",
       "       [[297.48245]],\n",
       "\n",
       "       [[297.33585]],\n",
       "\n",
       "       [[297.31757]],\n",
       "\n",
       "       [[297.6741 ]],\n",
       "\n",
       "       [[298.08917]],\n",
       "\n",
       "       [[298.4033 ]],\n",
       "\n",
       "       [[298.28314]],\n",
       "\n",
       "       [[298.04556]],\n",
       "\n",
       "       [[297.8182 ]],\n",
       "\n",
       "       [[297.84036]],\n",
       "\n",
       "       [[298.00488]],\n",
       "\n",
       "       [[298.11612]],\n",
       "\n",
       "       [[298.00394]],\n",
       "\n",
       "       [[297.8993 ]],\n",
       "\n",
       "       [[297.73788]],\n",
       "\n",
       "       [[297.5306 ]],\n",
       "\n",
       "       [[297.40604]],\n",
       "\n",
       "       [[297.6281 ]],\n",
       "\n",
       "       [[297.80276]],\n",
       "\n",
       "       [[297.90375]],\n",
       "\n",
       "       [[297.69824]],\n",
       "\n",
       "       [[297.40677]],\n",
       "\n",
       "       [[297.17093]],\n",
       "\n",
       "       [[297.26526]],\n",
       "\n",
       "       [[297.41507]],\n",
       "\n",
       "       [[297.2903 ]],\n",
       "\n",
       "       [[297.1945 ]],\n",
       "\n",
       "       [[297.1159 ]],\n",
       "\n",
       "       [[297.04462]],\n",
       "\n",
       "       [[296.5505 ]],\n",
       "\n",
       "       [[295.95218]],\n",
       "\n",
       "       [[295.43082]],\n",
       "\n",
       "       [[295.17035]],\n",
       "\n",
       "       [[294.9991 ]],\n",
       "\n",
       "       [[294.86252]],\n",
       "\n",
       "       [[294.739  ]],\n",
       "\n",
       "       [[294.6196 ]],\n",
       "\n",
       "       [[294.49344]],\n",
       "\n",
       "       [[294.36328]],\n",
       "\n",
       "       [[294.23865]],\n",
       "\n",
       "       [[294.12997]],\n",
       "\n",
       "       [[294.03525]],\n",
       "\n",
       "       [[293.95187]],\n",
       "\n",
       "       [[293.87833]],\n",
       "\n",
       "       [[293.81296]],\n",
       "\n",
       "       [[293.75302]],\n",
       "\n",
       "       [[293.6943 ]],\n",
       "\n",
       "       [[293.63242]],\n",
       "\n",
       "       [[293.56558]],\n",
       "\n",
       "       [[293.49478]],\n",
       "\n",
       "       [[293.4216 ]],\n",
       "\n",
       "       [[293.3473 ]],\n",
       "\n",
       "       [[293.2732 ]],\n",
       "\n",
       "       [[293.20322]],\n",
       "\n",
       "       [[293.1433 ]],\n",
       "\n",
       "       [[293.09872]],\n",
       "\n",
       "       [[293.06863]],\n",
       "\n",
       "       [[293.0463 ]],\n",
       "\n",
       "       [[293.02182]],\n",
       "\n",
       "       [[292.98825]],\n",
       "\n",
       "       [[292.942  ]],\n",
       "\n",
       "       [[292.88705]],\n",
       "\n",
       "       [[292.82614]],\n",
       "\n",
       "       [[292.75848]],\n",
       "\n",
       "       [[292.68463]],\n",
       "\n",
       "       [[292.61182]],\n",
       "\n",
       "       [[292.54544]],\n",
       "\n",
       "       [[292.4855 ]],\n",
       "\n",
       "       [[292.43045]],\n",
       "\n",
       "       [[292.3801 ]],\n",
       "\n",
       "       [[292.33527]],\n",
       "\n",
       "       [[292.29813]],\n",
       "\n",
       "       [[292.26627]],\n",
       "\n",
       "       [[292.2296 ]],\n",
       "\n",
       "       [[292.18475]],\n",
       "\n",
       "       [[292.13858]],\n",
       "\n",
       "       [[292.09567]],\n",
       "\n",
       "       [[292.05112]],\n",
       "\n",
       "       [[292.0006 ]],\n",
       "\n",
       "       [[291.94473]],\n",
       "\n",
       "       [[291.8856 ]],\n",
       "\n",
       "       [[291.82446]],\n",
       "\n",
       "       [[291.7627 ]],\n",
       "\n",
       "       [[291.7029 ]],\n",
       "\n",
       "       [[291.655  ]],\n",
       "\n",
       "       [[291.62375]],\n",
       "\n",
       "       [[291.5942 ]],\n",
       "\n",
       "       [[291.55148]],\n",
       "\n",
       "       [[291.49594]],\n",
       "\n",
       "       [[291.4391 ]],\n",
       "\n",
       "       [[291.38565]],\n",
       "\n",
       "       [[291.61295]],\n",
       "\n",
       "       [[292.6312 ]],\n",
       "\n",
       "       [[294.1935 ]],\n",
       "\n",
       "       [[295.43228]],\n",
       "\n",
       "       [[295.75815]],\n",
       "\n",
       "       [[295.63992]],\n",
       "\n",
       "       [[295.55997]],\n",
       "\n",
       "       [[295.5696 ]],\n",
       "\n",
       "       [[295.6284 ]],\n",
       "\n",
       "       [[295.64523]],\n",
       "\n",
       "       [[295.6549 ]],\n",
       "\n",
       "       [[295.63666]],\n",
       "\n",
       "       [[295.66132]],\n",
       "\n",
       "       [[295.7133 ]],\n",
       "\n",
       "       [[295.82742]],\n",
       "\n",
       "       [[296.0294 ]],\n",
       "\n",
       "       [[296.2202 ]],\n",
       "\n",
       "       [[296.42438]],\n",
       "\n",
       "       [[296.51352]],\n",
       "\n",
       "       [[296.72037]],\n",
       "\n",
       "       [[296.99142]],\n",
       "\n",
       "       [[297.34293]],\n",
       "\n",
       "       [[297.56992]],\n",
       "\n",
       "       [[297.6299 ]],\n",
       "\n",
       "       [[297.65536]],\n",
       "\n",
       "       [[297.81802]],\n",
       "\n",
       "       [[298.00046]],\n",
       "\n",
       "       [[298.13727]],\n",
       "\n",
       "       [[298.21777]],\n",
       "\n",
       "       [[298.39096]],\n",
       "\n",
       "       [[298.52725]],\n",
       "\n",
       "       [[298.69943]],\n",
       "\n",
       "       [[298.62097]],\n",
       "\n",
       "       [[298.58377]],\n",
       "\n",
       "       [[298.68085]],\n",
       "\n",
       "       [[298.79337]],\n",
       "\n",
       "       [[298.5378 ]],\n",
       "\n",
       "       [[298.1359 ]],\n",
       "\n",
       "       [[297.881  ]],\n",
       "\n",
       "       [[297.71533]],\n",
       "\n",
       "       [[297.6375 ]],\n",
       "\n",
       "       [[297.56216]],\n",
       "\n",
       "       [[297.23862]],\n",
       "\n",
       "       [[296.67404]],\n",
       "\n",
       "       [[296.50342]],\n",
       "\n",
       "       [[297.06882]],\n",
       "\n",
       "       [[297.54483]],\n",
       "\n",
       "       [[297.7438 ]],\n",
       "\n",
       "       [[297.64145]],\n",
       "\n",
       "       [[297.5764 ]],\n",
       "\n",
       "       [[297.30215]],\n",
       "\n",
       "       [[297.16946]],\n",
       "\n",
       "       [[296.94327]],\n",
       "\n",
       "       [[296.97974]],\n",
       "\n",
       "       [[297.06204]],\n",
       "\n",
       "       [[297.10855]],\n",
       "\n",
       "       [[297.05826]],\n",
       "\n",
       "       [[297.4147 ]],\n",
       "\n",
       "       [[297.85233]],\n",
       "\n",
       "       [[297.94156]],\n",
       "\n",
       "       [[297.78885]],\n",
       "\n",
       "       [[297.7775 ]],\n",
       "\n",
       "       [[297.83612]],\n",
       "\n",
       "       [[297.7974 ]],\n",
       "\n",
       "       [[297.6531 ]],\n",
       "\n",
       "       [[297.57324]],\n",
       "\n",
       "       [[297.492  ]],\n",
       "\n",
       "       [[297.43613]],\n",
       "\n",
       "       [[297.3524 ]],\n",
       "\n",
       "       [[297.26385]],\n",
       "\n",
       "       [[297.0505 ]],\n",
       "\n",
       "       [[296.7832 ]],\n",
       "\n",
       "       [[296.8024 ]],\n",
       "\n",
       "       [[296.98953]],\n",
       "\n",
       "       [[297.2366 ]],\n",
       "\n",
       "       [[297.1942 ]],\n",
       "\n",
       "       [[296.85825]],\n",
       "\n",
       "       [[296.34128]],\n",
       "\n",
       "       [[296.18594]],\n",
       "\n",
       "       [[296.41464]],\n",
       "\n",
       "       [[296.58807]],\n",
       "\n",
       "       [[296.43173]],\n",
       "\n",
       "       [[296.04727]],\n",
       "\n",
       "       [[295.6797 ]],\n",
       "\n",
       "       [[295.42355]],\n",
       "\n",
       "       [[295.3044 ]],\n",
       "\n",
       "       [[295.2443 ]],\n",
       "\n",
       "       [[295.2087 ]],\n",
       "\n",
       "       [[295.181  ]],\n",
       "\n",
       "       [[295.15268]],\n",
       "\n",
       "       [[295.12128]],\n",
       "\n",
       "       [[295.087  ]],\n",
       "\n",
       "       [[295.04984]],\n",
       "\n",
       "       [[295.00888]],\n",
       "\n",
       "       [[294.96368]],\n",
       "\n",
       "       [[294.91504]],\n",
       "\n",
       "       [[294.8646 ]],\n",
       "\n",
       "       [[294.81345]],\n",
       "\n",
       "       [[294.76172]],\n",
       "\n",
       "       [[294.7086 ]],\n",
       "\n",
       "       [[294.65195]],\n",
       "\n",
       "       [[294.5906 ]],\n",
       "\n",
       "       [[294.52454]],\n",
       "\n",
       "       [[294.45547]],\n",
       "\n",
       "       [[294.3859 ]],\n",
       "\n",
       "       [[294.3182 ]],\n",
       "\n",
       "       [[294.25272]],\n",
       "\n",
       "       [[294.18747]],\n",
       "\n",
       "       [[294.12137]],\n",
       "\n",
       "       [[294.05447]],\n",
       "\n",
       "       [[293.9858 ]],\n",
       "\n",
       "       [[293.91837]],\n",
       "\n",
       "       [[293.85742]],\n",
       "\n",
       "       [[293.80997]],\n",
       "\n",
       "       [[293.77444]],\n",
       "\n",
       "       [[293.7453 ]],\n",
       "\n",
       "       [[293.7162 ]],\n",
       "\n",
       "       [[293.685  ]],\n",
       "\n",
       "       [[293.6497 ]],\n",
       "\n",
       "       [[293.60922]],\n",
       "\n",
       "       [[293.56772]],\n",
       "\n",
       "       [[293.53207]],\n",
       "\n",
       "       [[293.5047 ]],\n",
       "\n",
       "       [[293.47983]],\n",
       "\n",
       "       [[293.44897]],\n",
       "\n",
       "       [[293.40695]],\n",
       "\n",
       "       [[293.3541 ]],\n",
       "\n",
       "       [[293.29434]],\n",
       "\n",
       "       [[293.23315]],\n",
       "\n",
       "       [[293.17654]],\n",
       "\n",
       "       [[293.1286 ]],\n",
       "\n",
       "       [[293.0898 ]],\n",
       "\n",
       "       [[293.05765]],\n",
       "\n",
       "       [[293.02957]],\n",
       "\n",
       "       [[293.00415]],\n",
       "\n",
       "       [[292.98068]],\n",
       "\n",
       "       [[292.9589 ]],\n",
       "\n",
       "       [[292.93896]],\n",
       "\n",
       "       [[292.92117]],\n",
       "\n",
       "       [[292.90546]],\n",
       "\n",
       "       [[292.89136]],\n",
       "\n",
       "       [[292.87805]],\n",
       "\n",
       "       [[292.86337]],\n",
       "\n",
       "       [[292.8434 ]],\n",
       "\n",
       "       [[293.0854 ]],\n",
       "\n",
       "       [[293.9741 ]],\n",
       "\n",
       "       [[295.3258 ]],\n",
       "\n",
       "       [[296.4033 ]],\n",
       "\n",
       "       [[296.72794]],\n",
       "\n",
       "       [[296.69858]],\n",
       "\n",
       "       [[296.6235 ]],\n",
       "\n",
       "       [[296.56097]],\n",
       "\n",
       "       [[296.42245]],\n",
       "\n",
       "       [[296.40622]],\n",
       "\n",
       "       [[296.54022]],\n",
       "\n",
       "       [[296.752  ]],\n",
       "\n",
       "       [[296.90054]],\n",
       "\n",
       "       [[296.9985 ]],\n",
       "\n",
       "       [[296.97882]],\n",
       "\n",
       "       [[297.00037]],\n",
       "\n",
       "       [[297.03677]],\n",
       "\n",
       "       [[297.23392]],\n",
       "\n",
       "       [[297.4409 ]],\n",
       "\n",
       "       [[297.71063]],\n",
       "\n",
       "       [[297.87573]],\n",
       "\n",
       "       [[298.04294]],\n",
       "\n",
       "       [[298.18155]],\n",
       "\n",
       "       [[298.3682 ]],\n",
       "\n",
       "       [[298.5645 ]],\n",
       "\n",
       "       [[298.73462]],\n",
       "\n",
       "       [[298.69656]],\n",
       "\n",
       "       [[298.58426]],\n",
       "\n",
       "       [[298.41696]],\n",
       "\n",
       "       [[298.27945]],\n",
       "\n",
       "       [[298.35666]],\n",
       "\n",
       "       [[298.56473]],\n",
       "\n",
       "       [[298.7189 ]],\n",
       "\n",
       "       [[298.66513]],\n",
       "\n",
       "       [[298.65952]],\n",
       "\n",
       "       [[298.63028]],\n",
       "\n",
       "       [[298.6063 ]],\n",
       "\n",
       "       [[298.42465]],\n",
       "\n",
       "       [[298.33847]],\n",
       "\n",
       "       [[298.4271 ]],\n",
       "\n",
       "       [[298.62912]],\n",
       "\n",
       "       [[298.8771 ]],\n",
       "\n",
       "       [[298.79916]],\n",
       "\n",
       "       [[298.3879 ]],\n",
       "\n",
       "       [[297.99203]],\n",
       "\n",
       "       [[297.9686 ]],\n",
       "\n",
       "       [[297.9097 ]],\n",
       "\n",
       "       [[297.76096]],\n",
       "\n",
       "       [[297.8278 ]],\n",
       "\n",
       "       [[298.28644]],\n",
       "\n",
       "       [[298.6636 ]],\n",
       "\n",
       "       [[298.7352 ]],\n",
       "\n",
       "       [[298.47604]],\n",
       "\n",
       "       [[297.98578]],\n",
       "\n",
       "       [[297.69995]],\n",
       "\n",
       "       [[297.41275]],\n",
       "\n",
       "       [[297.31335]],\n",
       "\n",
       "       [[297.43823]],\n",
       "\n",
       "       [[297.80643]],\n",
       "\n",
       "       [[297.9326 ]],\n",
       "\n",
       "       [[297.92258]],\n",
       "\n",
       "       [[297.90607]],\n",
       "\n",
       "       [[297.89255]],\n",
       "\n",
       "       [[297.6937 ]],\n",
       "\n",
       "       [[297.56223]],\n",
       "\n",
       "       [[297.438  ]],\n",
       "\n",
       "       [[297.3904 ]],\n",
       "\n",
       "       [[297.34866]],\n",
       "\n",
       "       [[297.73184]],\n",
       "\n",
       "       [[298.0093 ]],\n",
       "\n",
       "       [[298.2004 ]],\n",
       "\n",
       "       [[298.1391 ]],\n",
       "\n",
       "       [[297.983  ]],\n",
       "\n",
       "       [[297.38724]],\n",
       "\n",
       "       [[297.14493]],\n",
       "\n",
       "       [[297.33878]],\n",
       "\n",
       "       [[297.6659 ]],\n",
       "\n",
       "       [[297.47818]],\n",
       "\n",
       "       [[297.3665 ]],\n",
       "\n",
       "       [[297.369  ]],\n",
       "\n",
       "       [[297.53088]],\n",
       "\n",
       "       [[297.49396]],\n",
       "\n",
       "       [[297.13516]],\n",
       "\n",
       "       [[296.50742]],\n",
       "\n",
       "       [[295.94043]],\n",
       "\n",
       "       [[295.64658]],\n",
       "\n",
       "       [[295.4791 ]],\n",
       "\n",
       "       [[295.3579 ]],\n",
       "\n",
       "       [[295.26785]],\n",
       "\n",
       "       [[295.20047]],\n",
       "\n",
       "       [[295.15576]],\n",
       "\n",
       "       [[295.132  ]],\n",
       "\n",
       "       [[295.1202 ]],\n",
       "\n",
       "       [[295.10904]],\n",
       "\n",
       "       [[295.08792]],\n",
       "\n",
       "       [[295.04916]],\n",
       "\n",
       "       [[294.9868 ]],\n",
       "\n",
       "       [[294.9034 ]],\n",
       "\n",
       "       [[294.81174]],\n",
       "\n",
       "       [[294.72668]],\n",
       "\n",
       "       [[294.65726]],\n",
       "\n",
       "       [[294.60312]],\n",
       "\n",
       "       [[294.55972]],\n",
       "\n",
       "       [[294.5226 ]],\n",
       "\n",
       "       [[294.491  ]],\n",
       "\n",
       "       [[294.46713]],\n",
       "\n",
       "       [[294.4481 ]],\n",
       "\n",
       "       [[294.43033]],\n",
       "\n",
       "       [[294.41208]],\n",
       "\n",
       "       [[294.39575]],\n",
       "\n",
       "       [[294.38113]],\n",
       "\n",
       "       [[294.3677 ]],\n",
       "\n",
       "       [[294.35367]],\n",
       "\n",
       "       [[294.3359 ]],\n",
       "\n",
       "       [[294.31458]],\n",
       "\n",
       "       [[294.29367]],\n",
       "\n",
       "       [[294.27652]],\n",
       "\n",
       "       [[294.2623 ]],\n",
       "\n",
       "       [[294.24954]],\n",
       "\n",
       "       [[294.24454]],\n",
       "\n",
       "       [[294.25186]],\n",
       "\n",
       "       [[294.269  ]],\n",
       "\n",
       "       [[294.28665]],\n",
       "\n",
       "       [[294.29907]],\n",
       "\n",
       "       [[294.30347]],\n",
       "\n",
       "       [[294.30014]],\n",
       "\n",
       "       [[294.29025]],\n",
       "\n",
       "       [[294.276  ]],\n",
       "\n",
       "       [[294.25858]],\n",
       "\n",
       "       [[294.2394 ]],\n",
       "\n",
       "       [[294.2192 ]],\n",
       "\n",
       "       [[294.1983 ]],\n",
       "\n",
       "       [[294.1767 ]],\n",
       "\n",
       "       [[294.15475]],\n",
       "\n",
       "       [[294.13245]],\n",
       "\n",
       "       [[294.1099 ]],\n",
       "\n",
       "       [[294.08688]],\n",
       "\n",
       "       [[294.0617 ]],\n",
       "\n",
       "       [[294.03168]],\n",
       "\n",
       "       [[293.99326]],\n",
       "\n",
       "       [[293.9443 ]],\n",
       "\n",
       "       [[293.88376]],\n",
       "\n",
       "       [[293.81387]],\n",
       "\n",
       "       [[293.73538]],\n",
       "\n",
       "       [[293.90182]],\n",
       "\n",
       "       [[294.671  ]],\n",
       "\n",
       "       [[295.59222]],\n",
       "\n",
       "       [[295.90115]],\n",
       "\n",
       "       [[295.87393]],\n",
       "\n",
       "       [[296.06985]],\n",
       "\n",
       "       [[296.57034]],\n",
       "\n",
       "       [[296.83853]],\n",
       "\n",
       "       [[296.9171 ]],\n",
       "\n",
       "       [[296.93787]],\n",
       "\n",
       "       [[296.9583 ]],\n",
       "\n",
       "       [[297.0736 ]],\n",
       "\n",
       "       [[297.14758]],\n",
       "\n",
       "       [[297.2062 ]],\n",
       "\n",
       "       [[297.27628]],\n",
       "\n",
       "       [[297.35886]],\n",
       "\n",
       "       [[297.4165 ]],\n",
       "\n",
       "       [[297.39542]],\n",
       "\n",
       "       [[297.59897]],\n",
       "\n",
       "       [[297.90063]],\n",
       "\n",
       "       [[298.18954]],\n",
       "\n",
       "       [[298.34946]],\n",
       "\n",
       "       [[298.48376]],\n",
       "\n",
       "       [[298.62448]],\n",
       "\n",
       "       [[298.64175]],\n",
       "\n",
       "       [[298.65073]],\n",
       "\n",
       "       [[298.6556 ]],\n",
       "\n",
       "       [[298.57468]],\n",
       "\n",
       "       [[298.49768]],\n",
       "\n",
       "       [[298.50372]],\n",
       "\n",
       "       [[298.67642]],\n",
       "\n",
       "       [[298.72928]],\n",
       "\n",
       "       [[298.63068]],\n",
       "\n",
       "       [[298.56268]],\n",
       "\n",
       "       [[298.55472]],\n",
       "\n",
       "       [[298.54282]],\n",
       "\n",
       "       [[298.67017]],\n",
       "\n",
       "       [[298.70038]],\n",
       "\n",
       "       [[298.37625]],\n",
       "\n",
       "       [[297.92307]],\n",
       "\n",
       "       [[297.86252]],\n",
       "\n",
       "       [[297.76965]],\n",
       "\n",
       "       [[297.4005 ]],\n",
       "\n",
       "       [[297.214  ]],\n",
       "\n",
       "       [[297.72867]],\n",
       "\n",
       "       [[298.29507]],\n",
       "\n",
       "       [[298.62234]],\n",
       "\n",
       "       [[298.8162 ]],\n",
       "\n",
       "       [[298.88013]],\n",
       "\n",
       "       [[298.6821 ]],\n",
       "\n",
       "       [[298.30252]],\n",
       "\n",
       "       [[297.88214]],\n",
       "\n",
       "       [[297.79224]],\n",
       "\n",
       "       [[297.7705 ]],\n",
       "\n",
       "       [[297.6365 ]],\n",
       "\n",
       "       [[297.46893]],\n",
       "\n",
       "       [[297.6031 ]],\n",
       "\n",
       "       [[297.8289 ]],\n",
       "\n",
       "       [[297.8455 ]],\n",
       "\n",
       "       [[298.06406]],\n",
       "\n",
       "       [[298.20932]],\n",
       "\n",
       "       [[298.28214]],\n",
       "\n",
       "       [[298.18198]],\n",
       "\n",
       "       [[297.97043]],\n",
       "\n",
       "       [[298.00967]],\n",
       "\n",
       "       [[298.06503]],\n",
       "\n",
       "       [[298.15616]],\n",
       "\n",
       "       [[297.8564 ]],\n",
       "\n",
       "       [[297.75153]],\n",
       "\n",
       "       [[297.75668]],\n",
       "\n",
       "       [[297.8118 ]],\n",
       "\n",
       "       [[297.6312 ]],\n",
       "\n",
       "       [[297.5319 ]],\n",
       "\n",
       "       [[297.56372]],\n",
       "\n",
       "       [[297.62888]],\n",
       "\n",
       "       [[297.56924]],\n",
       "\n",
       "       [[297.35645]],\n",
       "\n",
       "       [[297.06393]],\n",
       "\n",
       "       [[296.74738]],\n",
       "\n",
       "       [[296.61667]],\n",
       "\n",
       "       [[296.7836 ]],\n",
       "\n",
       "       [[296.96933]],\n",
       "\n",
       "       [[296.81833]],\n",
       "\n",
       "       [[296.38953]],\n",
       "\n",
       "       [[296.04584]],\n",
       "\n",
       "       [[295.8658 ]],\n",
       "\n",
       "       [[295.75455]],\n",
       "\n",
       "       [[295.67593]],\n",
       "\n",
       "       [[295.61438]],\n",
       "\n",
       "       [[295.56482]],\n",
       "\n",
       "       [[295.52554]],\n",
       "\n",
       "       [[295.49466]],\n",
       "\n",
       "       [[295.46774]],\n",
       "\n",
       "       [[295.43826]],\n",
       "\n",
       "       [[295.39975]],\n",
       "\n",
       "       [[295.35074]],\n",
       "\n",
       "       [[295.29544]],\n",
       "\n",
       "       [[295.23697]],\n",
       "\n",
       "       [[295.16486]],\n",
       "\n",
       "       [[295.07706]],\n",
       "\n",
       "       [[294.98615]],\n",
       "\n",
       "       [[294.91727]],\n",
       "\n",
       "       [[294.8684 ]],\n",
       "\n",
       "       [[294.8214 ]],\n",
       "\n",
       "       [[294.76187]],\n",
       "\n",
       "       [[294.6949 ]],\n",
       "\n",
       "       [[294.6302 ]],\n",
       "\n",
       "       [[294.57474]],\n",
       "\n",
       "       [[294.53253]],\n",
       "\n",
       "       [[294.50375]],\n",
       "\n",
       "       [[294.48523]],\n",
       "\n",
       "       [[294.4728 ]],\n",
       "\n",
       "       [[294.46326]],\n",
       "\n",
       "       [[294.4564 ]],\n",
       "\n",
       "       [[294.4529 ]],\n",
       "\n",
       "       [[294.44955]],\n",
       "\n",
       "       [[294.44125]],\n",
       "\n",
       "       [[294.4248 ]],\n",
       "\n",
       "       [[294.4017 ]],\n",
       "\n",
       "       [[294.37485]],\n",
       "\n",
       "       [[294.34726]],\n",
       "\n",
       "       [[294.31964]],\n",
       "\n",
       "       [[294.2905 ]],\n",
       "\n",
       "       [[294.25867]],\n",
       "\n",
       "       [[294.22397]],\n",
       "\n",
       "       [[294.1867 ]],\n",
       "\n",
       "       [[294.1471 ]],\n",
       "\n",
       "       [[294.1055 ]],\n",
       "\n",
       "       [[294.0621 ]],\n",
       "\n",
       "       [[294.01797]],\n",
       "\n",
       "       [[293.97604]],\n",
       "\n",
       "       [[293.9386 ]],\n",
       "\n",
       "       [[293.9047 ]],\n",
       "\n",
       "       [[293.87112]],\n",
       "\n",
       "       [[293.83414]],\n",
       "\n",
       "       [[293.79333]],\n",
       "\n",
       "       [[293.75192]],\n",
       "\n",
       "       [[293.71362]],\n",
       "\n",
       "       [[293.67715]],\n",
       "\n",
       "       [[293.63992]],\n",
       "\n",
       "       [[293.601  ]],\n",
       "\n",
       "       [[293.56186]],\n",
       "\n",
       "       [[293.52173]],\n",
       "\n",
       "       [[293.47824]],\n",
       "\n",
       "       [[293.69128]],\n",
       "\n",
       "       [[294.5532 ]],\n",
       "\n",
       "       [[295.6253 ]],\n",
       "\n",
       "       [[296.0568 ]],\n",
       "\n",
       "       [[296.0851 ]],\n",
       "\n",
       "       [[296.33218]],\n",
       "\n",
       "       [[296.79416]],\n",
       "\n",
       "       [[297.0116 ]],\n",
       "\n",
       "       [[296.9861 ]],\n",
       "\n",
       "       [[297.00247]],\n",
       "\n",
       "       [[297.15363]],\n",
       "\n",
       "       [[297.30905]],\n",
       "\n",
       "       [[297.33957]],\n",
       "\n",
       "       [[297.29227]],\n",
       "\n",
       "       [[297.362  ]],\n",
       "\n",
       "       [[297.5308 ]],\n",
       "\n",
       "       [[297.69846]],\n",
       "\n",
       "       [[297.81445]],\n",
       "\n",
       "       [[297.90384]],\n",
       "\n",
       "       [[298.1035 ]],\n",
       "\n",
       "       [[298.32965]],\n",
       "\n",
       "       [[298.60788]],\n",
       "\n",
       "       [[298.69006]],\n",
       "\n",
       "       [[298.60507]],\n",
       "\n",
       "       [[298.38583]],\n",
       "\n",
       "       [[298.23575]],\n",
       "\n",
       "       [[298.2989 ]],\n",
       "\n",
       "       [[298.6025 ]],\n",
       "\n",
       "       [[298.85037]],\n",
       "\n",
       "       [[298.75674]],\n",
       "\n",
       "       [[298.34558]],\n",
       "\n",
       "       [[298.08603]],\n",
       "\n",
       "       [[298.07172]],\n",
       "\n",
       "       [[298.32605]],\n",
       "\n",
       "       [[298.5366 ]],\n",
       "\n",
       "       [[298.61972]],\n",
       "\n",
       "       [[298.64902]],\n",
       "\n",
       "       [[298.58746]],\n",
       "\n",
       "       [[298.57013]],\n",
       "\n",
       "       [[298.58224]],\n",
       "\n",
       "       [[298.4103 ]],\n",
       "\n",
       "       [[298.2181 ]],\n",
       "\n",
       "       [[298.20706]],\n",
       "\n",
       "       [[298.54913]],\n",
       "\n",
       "       [[298.8538 ]],\n",
       "\n",
       "       [[298.75854]],\n",
       "\n",
       "       [[298.35025]],\n",
       "\n",
       "       [[297.92886]],\n",
       "\n",
       "       [[297.7875 ]],\n",
       "\n",
       "       [[297.82095]],\n",
       "\n",
       "       [[298.1727 ]],\n",
       "\n",
       "       [[298.49008]],\n",
       "\n",
       "       [[298.53745]],\n",
       "\n",
       "       [[298.53445]],\n",
       "\n",
       "       [[298.4763 ]],\n",
       "\n",
       "       [[298.35977]],\n",
       "\n",
       "       [[298.30014]],\n",
       "\n",
       "       [[298.51144]],\n",
       "\n",
       "       [[298.27063]],\n",
       "\n",
       "       [[297.9625 ]],\n",
       "\n",
       "       [[297.79086]],\n",
       "\n",
       "       [[297.59805]],\n",
       "\n",
       "       [[297.33606]],\n",
       "\n",
       "       [[297.36826]],\n",
       "\n",
       "       [[297.78378]],\n",
       "\n",
       "       [[297.8861 ]],\n",
       "\n",
       "       [[297.6149 ]],\n",
       "\n",
       "       [[297.1246 ]],\n",
       "\n",
       "       [[297.0933 ]],\n",
       "\n",
       "       [[297.4836 ]],\n",
       "\n",
       "       [[298.1163 ]],\n",
       "\n",
       "       [[298.39102]],\n",
       "\n",
       "       [[298.47476]],\n",
       "\n",
       "       [[298.25864]],\n",
       "\n",
       "       [[297.88263]],\n",
       "\n",
       "       [[297.57504]],\n",
       "\n",
       "       [[297.48044]],\n",
       "\n",
       "       [[297.73154]],\n",
       "\n",
       "       [[297.80423]],\n",
       "\n",
       "       [[297.6954 ]],\n",
       "\n",
       "       [[297.45206]],\n",
       "\n",
       "       [[297.25394]],\n",
       "\n",
       "       [[296.97498]],\n",
       "\n",
       "       [[296.64688]],\n",
       "\n",
       "       [[296.44485]],\n",
       "\n",
       "       [[296.33862]],\n",
       "\n",
       "       [[296.27554]],\n",
       "\n",
       "       [[296.23157]],\n",
       "\n",
       "       [[296.19522]],\n",
       "\n",
       "       [[296.16068]],\n",
       "\n",
       "       [[296.12576]],\n",
       "\n",
       "       [[296.09055]],\n",
       "\n",
       "       [[296.05582]],\n",
       "\n",
       "       [[296.02158]],\n",
       "\n",
       "       [[295.98654]],\n",
       "\n",
       "       [[295.94653]],\n",
       "\n",
       "       [[295.89664]],\n",
       "\n",
       "       [[295.834  ]],\n",
       "\n",
       "       [[295.75958]],\n",
       "\n",
       "       [[295.68262]],\n",
       "\n",
       "       [[295.61307]],\n",
       "\n",
       "       [[295.55582]],\n",
       "\n",
       "       [[295.50845]],\n",
       "\n",
       "       [[295.4685 ]],\n",
       "\n",
       "       [[295.43427]],\n",
       "\n",
       "       [[295.4043 ]],\n",
       "\n",
       "       [[295.37787]],\n",
       "\n",
       "       [[295.356  ]],\n",
       "\n",
       "       [[295.33902]],\n",
       "\n",
       "       [[295.3252 ]],\n",
       "\n",
       "       [[295.31155]],\n",
       "\n",
       "       [[295.29636]],\n",
       "\n",
       "       [[295.27902]],\n",
       "\n",
       "       [[295.2594 ]],\n",
       "\n",
       "       [[295.2379 ]],\n",
       "\n",
       "       [[295.2152 ]],\n",
       "\n",
       "       [[295.19193]],\n",
       "\n",
       "       [[295.1683 ]],\n",
       "\n",
       "       [[295.14447]],\n",
       "\n",
       "       [[295.12045]],\n",
       "\n",
       "       [[295.09647]],\n",
       "\n",
       "       [[295.0726 ]],\n",
       "\n",
       "       [[295.04874]],\n",
       "\n",
       "       [[295.0248 ]],\n",
       "\n",
       "       [[294.99948]],\n",
       "\n",
       "       [[294.96774]],\n",
       "\n",
       "       [[294.92087]],\n",
       "\n",
       "       [[294.8538 ]],\n",
       "\n",
       "       [[294.77054]],\n",
       "\n",
       "       [[294.6843 ]],\n",
       "\n",
       "       [[294.60855]],\n",
       "\n",
       "       [[294.55008]],\n",
       "\n",
       "       [[294.50748]],\n",
       "\n",
       "       [[294.47586]],\n",
       "\n",
       "       [[294.45035]],\n",
       "\n",
       "       [[294.42587]],\n",
       "\n",
       "       [[294.3983 ]],\n",
       "\n",
       "       [[294.36588]],\n",
       "\n",
       "       [[294.32925]],\n",
       "\n",
       "       [[294.29007]],\n",
       "\n",
       "       [[294.2504 ]],\n",
       "\n",
       "       [[294.21176]],\n",
       "\n",
       "       [[294.1755 ]],\n",
       "\n",
       "       [[294.14185]],\n",
       "\n",
       "       [[294.11066]],\n",
       "\n",
       "       [[294.08127]],\n",
       "\n",
       "       [[294.0532 ]],\n",
       "\n",
       "       [[294.2656 ]],\n",
       "\n",
       "       [[294.99408]],\n",
       "\n",
       "       [[295.9829 ]],\n",
       "\n",
       "       [[296.69247]],\n",
       "\n",
       "       [[297.0166 ]],\n",
       "\n",
       "       [[297.21252]],\n",
       "\n",
       "       [[297.45102]],\n",
       "\n",
       "       [[297.62656]],\n",
       "\n",
       "       [[297.77945]],\n",
       "\n",
       "       [[297.82114]],\n",
       "\n",
       "       [[297.81723]],\n",
       "\n",
       "       [[297.74878]],\n",
       "\n",
       "       [[297.83   ]],\n",
       "\n",
       "       [[297.9882 ]],\n",
       "\n",
       "       [[298.11618]],\n",
       "\n",
       "       [[298.13107]],\n",
       "\n",
       "       [[298.22232]],\n",
       "\n",
       "       [[298.50073]],\n",
       "\n",
       "       [[298.78073]],\n",
       "\n",
       "       [[298.86942]],\n",
       "\n",
       "       [[298.68924]],\n",
       "\n",
       "       [[298.37363]],\n",
       "\n",
       "       [[298.28143]],\n",
       "\n",
       "       [[298.454  ]],\n",
       "\n",
       "       [[298.75122]],\n",
       "\n",
       "       [[298.8566 ]],\n",
       "\n",
       "       [[298.8114 ]],\n",
       "\n",
       "       [[298.84   ]],\n",
       "\n",
       "       [[298.78848]],\n",
       "\n",
       "       [[298.52744]],\n",
       "\n",
       "       [[298.11652]],\n",
       "\n",
       "       [[297.814  ]],\n",
       "\n",
       "       [[297.65942]],\n",
       "\n",
       "       [[297.60965]],\n",
       "\n",
       "       [[297.8879 ]]], dtype=float32)"
      ]
     },
     "execution_count": 58,
     "metadata": {},
     "output_type": "execute_result"
    }
   ],
   "source": [
    "yhat2"
   ]
  },
  {
   "cell_type": "code",
   "execution_count": 63,
   "metadata": {},
   "outputs": [
    {
     "data": {
      "text/plain": [
       "[<matplotlib.lines.Line2D at 0x161f75aa048>]"
      ]
     },
     "execution_count": 63,
     "metadata": {},
     "output_type": "execute_result"
    },
    {
     "data": {
      "image/png": "[encoded data removed]",
      "text/plain": [
       "<Figure size 432x288 with 1 Axes>"
      ]
     },
     "metadata": {
      "needs_background": "light"
     },
     "output_type": "display_data"
    },
    {
     "data": {
      "image/png": "[encoded data removed]",
      "text/plain": [
       "<Figure size 432x288 with 1 Axes>"
      ]
     },
     "metadata": {
      "needs_background": "light"
     },
     "output_type": "display_data"
    }
   ],
   "source": [
    "plt.plot(yhat2[:,0,0])\n",
    "plt.plot(np.arange(len(dataY_temp_test)),dataY_temp_test[:,0,0])\n",
    "\n",
    "plt.figure()\n",
    "l = 50\n",
    "plt.plot(np.arange(l),yhat2[:l,0,0])\n",
    "plt.plot(np.arange(50),dataY_temp_test[:l,0,0],'-*')"
   ]
  },
  {
   "cell_type": "markdown",
   "metadata": {},
   "source": [
    "#### Simple LSTM model"
   ]
  },
  {
   "cell_type": "code",
   "execution_count": 25,
   "metadata": {},
   "outputs": [],
   "source": [
    "from pandas import DataFrame\n",
    "from pandas import concat"
   ]
  },
  {
   "cell_type": "markdown",
   "metadata": {},
   "source": [
    "##### Univariate but treated as Multi-variates"
   ]
  },
  {
   "cell_type": "code",
   "execution_count": 30,
   "metadata": {},
   "outputs": [
    {
     "ename": "NameError",
     "evalue": "name 'data_temp' is not defined",
     "output_type": "error",
     "traceback": [
      "\u001b[1;31m---------------------------------------------------------------------------\u001b[0m",
      "\u001b[1;31mNameError\u001b[0m                                 Traceback (most recent call last)",
      "\u001b[1;32m<ipython-input-30-1107995185dc>\u001b[0m in \u001b[0;36m<module>\u001b[1;34m\u001b[0m\n\u001b[0;32m      7\u001b[0m \u001b[0mmodel\u001b[0m\u001b[1;33m.\u001b[0m\u001b[0mcompile\u001b[0m\u001b[1;33m(\u001b[0m\u001b[0moptimizer\u001b[0m\u001b[1;33m=\u001b[0m\u001b[1;34m'adam'\u001b[0m\u001b[1;33m,\u001b[0m \u001b[0mloss\u001b[0m\u001b[1;33m=\u001b[0m\u001b[1;34m'mse'\u001b[0m\u001b[1;33m)\u001b[0m\u001b[1;33m\u001b[0m\u001b[1;33m\u001b[0m\u001b[0m\n\u001b[0;32m      8\u001b[0m \u001b[1;33m\u001b[0m\u001b[0m\n\u001b[1;32m----> 9\u001b[1;33m \u001b[0mdataX_temp\u001b[0m \u001b[1;33m=\u001b[0m \u001b[0mnp\u001b[0m\u001b[1;33m.\u001b[0m\u001b[0mreshape\u001b[0m\u001b[1;33m(\u001b[0m\u001b[0mdata_temp\u001b[0m\u001b[1;33m.\u001b[0m\u001b[0miloc\u001b[0m\u001b[1;33m[\u001b[0m\u001b[1;36m3\u001b[0m\u001b[1;33m:\u001b[0m\u001b[1;33m,\u001b[0m\u001b[1;36m0\u001b[0m\u001b[1;33m:\u001b[0m\u001b[1;36m3\u001b[0m\u001b[1;33m]\u001b[0m\u001b[1;33m.\u001b[0m\u001b[0mvalues\u001b[0m\u001b[1;33m,\u001b[0m\u001b[1;33m(\u001b[0m\u001b[1;33m-\u001b[0m\u001b[1;36m1\u001b[0m\u001b[1;33m,\u001b[0m\u001b[1;36m1\u001b[0m\u001b[1;33m,\u001b[0m\u001b[1;36m3\u001b[0m\u001b[1;33m)\u001b[0m\u001b[1;33m)\u001b[0m\u001b[1;33m\u001b[0m\u001b[1;33m\u001b[0m\u001b[0m\n\u001b[0m\u001b[0;32m     10\u001b[0m \u001b[0mdataY_temp\u001b[0m \u001b[1;33m=\u001b[0m \u001b[0mdata_temp\u001b[0m\u001b[1;33m.\u001b[0m\u001b[0miloc\u001b[0m\u001b[1;33m[\u001b[0m\u001b[1;36m3\u001b[0m\u001b[1;33m:\u001b[0m\u001b[1;33m,\u001b[0m\u001b[1;33m-\u001b[0m\u001b[1;36m1\u001b[0m\u001b[1;33m]\u001b[0m\u001b[1;33m\u001b[0m\u001b[1;33m\u001b[0m\u001b[0m\n\u001b[0;32m     11\u001b[0m \u001b[1;31m# Split dataset into train set and test set,split ratio 4:1\u001b[0m\u001b[1;33m\u001b[0m\u001b[1;33m\u001b[0m\u001b[1;33m\u001b[0m\u001b[0m\n",
      "\u001b[1;31mNameError\u001b[0m: name 'data_temp' is not defined"
     ]
    }
   ],
   "source": [
    "n_steps = 1\n",
    "n_features = 3\n",
    "# define model\n",
    "model = Sequential()\n",
    "model.add(LSTM(50, activation='relu', input_shape=(n_steps, n_features)))\n",
    "model.add(Dense(1))\n",
    "model.compile(optimizer='adam', loss='mse')\n",
    "\n",
    "dataX_temp = np.reshape(data_temp.iloc[3:,0:3].values,(-1,1,3))\n",
    "dataY_temp = data_temp.iloc[3:,-1]\n",
    "# Split dataset into train set and test set,split ratio 4:1\n",
    "splitting_Point = int(len(dataX_temp)*4/5)\n",
    "dataX_temp_train,dataX_temp_test = dataX_temp[:splitting_Point],dataX_temp[splitting_Point:]\n",
    "dataY_temp_train,dataY_temp_test = dataY_temp[:splitting_Point],dataY_temp[splitting_Point:]\n",
    "\n",
    "# fit model\n",
    "model.fit(dataX_temp_train, dataY_temp_train, epochs=10, verbose=1)"
   ]
  },
  {
   "cell_type": "code",
   "execution_count": 458,
   "metadata": {},
   "outputs": [],
   "source": [
    "# demonstrate prediction\n",
    "yhat2 = model2.predict(dataX_temp_test, verbose=0)"
   ]
  },
  {
   "cell_type": "code",
   "execution_count": 459,
   "metadata": {
    "scrolled": false
   },
   "outputs": [
    {
     "data": {
      "text/plain": [
       "[<matplotlib.lines.Line2D at 0x229779785f8>]"
      ]
     },
     "execution_count": 459,
     "metadata": {},
     "output_type": "execute_result"
    },
    {
     "data": {
      "image/png": "[encoded data removed]",
      "text/plain": [
       "<Figure size 432x288 with 1 Axes>"
      ]
     },
     "metadata": {
      "needs_background": "light"
     },
     "output_type": "display_data"
    },
    {
     "data": {
      "image/png": "[encoded data removed]",
      "text/plain": [
       "<Figure size 432x288 with 1 Axes>"
      ]
     },
     "metadata": {
      "needs_background": "light"
     },
     "output_type": "display_data"
    }
   ],
   "source": [
    "plt.plot(yhat2)\n",
    "plt.plot(np.arange(len(dataY_temp_test)),dataY_temp_test)\n",
    "\n",
    "plt.figure()\n",
    "l = 50\n",
    "plt.plot(yhat[:l])\n",
    "plt.plot(np.arange(l),yhat4[:l])\n",
    "plt.plot(np.arange(l),yhat2[:l])\n",
    "plt.plot(np.arange(50),dataY_temp_test[:l],'-*')"
   ]
  },
  {
   "cell_type": "markdown",
   "metadata": {},
   "source": [
    "##### Multi-steps"
   ]
  },
  {
   "cell_type": "code",
   "execution_count": 26,
   "metadata": {},
   "outputs": [],
   "source": [
    "# frame a sequence as a supervised learning problem\n",
    "def timeseries_to_supervised(data, lag=1):\n",
    "    df = DataFrame(data)\n",
    "    columns = [df.shift(i) for i in range(1, lag+1)]\n",
    "    columns.append(df)\n",
    "    df = concat(columns, axis=1)\n",
    "    df.fillna(0, inplace=True)\n",
    "    return df"
   ]
  },
  {
   "cell_type": "code",
   "execution_count": 59,
   "metadata": {},
   "outputs": [],
   "source": [
    "data_temp = timeseries_to_supervised(DataFrame(scaler.fit_transform(dataY[:,0,:])),3)"
   ]
  },
  {
   "cell_type": "code",
   "execution_count": 60,
   "metadata": {},
   "outputs": [
    {
     "data": {
      "text/plain": [
       "(4246, 4)"
      ]
     },
     "execution_count": 60,
     "metadata": {},
     "output_type": "execute_result"
    }
   ],
   "source": [
    "data_temp.shape"
   ]
  },
  {
   "cell_type": "code",
   "execution_count": 38,
   "metadata": {},
   "outputs": [],
   "source": [
    "n_steps = 3\n",
    "n_features = 1\n",
    "# define model\n",
    "model = Sequential()\n",
    "model.add(LSTM(50, activation='relu', input_shape=(n_steps, n_features)))\n",
    "model.add(Dense(1))\n",
    "model.compile(optimizer='adam', loss='mse')\n",
    "\n",
    "dataX_temp = np.reshape(data_temp.iloc[3:,0:3].values,(-1,3,1))\n",
    "dataY_temp = data_temp.iloc[3:,-1]"
   ]
  },
  {
   "cell_type": "code",
   "execution_count": null,
   "metadata": {},
   "outputs": [],
   "source": [
    "# Split dataset into train set and test set,split ratio 4:1\n",
    "splitting_Point = int(len(dataX_temp)*4/5)\n",
    "dataX_temp_train,dataX_temp_test = dataX_temp[:splitting_Point],dataX_temp[splitting_Point:]\n",
    "dataY_temp_train,dataY_temp_test = dataY_temp[:splitting_Point],dataY_temp[splitting_Point:]\n",
    "\n",
    "# fit model\n",
    "model.fit(dataX_temp_train, dataY_temp_train, epochs=10, verbose=1)"
   ]
  },
  {
   "cell_type": "code",
   "execution_count": 441,
   "metadata": {},
   "outputs": [],
   "source": [
    "# demonstrate prediction\n",
    "yhat = model.predict(dataX_temp_test, verbose=0)"
   ]
  },
  {
   "cell_type": "code",
   "execution_count": 455,
   "metadata": {
    "scrolled": false
   },
   "outputs": [
    {
     "data": {
      "text/plain": [
       "[<matplotlib.lines.Line2D at 0x2297e130cf8>]"
      ]
     },
     "execution_count": 455,
     "metadata": {},
     "output_type": "execute_result"
    },
    {
     "data": {
      "image/png": "[encoded data removed]",
      "text/plain": [
       "<Figure size 432x288 with 1 Axes>"
      ]
     },
     "metadata": {
      "needs_background": "light"
     },
     "output_type": "display_data"
    },
    {
     "data": {
      "image/png": "[encoded data removed]",
      "text/plain": [
       "<Figure size 432x288 with 1 Axes>"
      ]
     },
     "metadata": {
      "needs_background": "light"
     },
     "output_type": "display_data"
    }
   ],
   "source": [
    "plt.plot(yhat)\n",
    "plt.plot(np.arange(len(dataY_temp_test)),dataY_temp_test)\n",
    "\n",
    "plt.figure()\n",
    "l = 50\n",
    "plt.plot(yhat[:l])\n",
    "plt.plot(np.arange(l),yhat4[:l])\n",
    "plt.plot(np.arange(50),dataY_temp_test[:l],'-*')"
   ]
  },
  {
   "cell_type": "markdown",
   "metadata": {},
   "source": [
    "##### Multi-variate"
   ]
  },
  {
   "cell_type": "code",
   "execution_count": 39,
   "metadata": {},
   "outputs": [],
   "source": [
    "### transform to multi steps dataset\n",
    "dataX_temp2 = timeseries_to_multi_step(dataSetX_All[['TSupCor.T', 'VSupCor_flow.V_flow','InternalGain','Dry Bulb Temperature {C}','occup']],3)\n",
    "\n",
    "# truncate head and tail\n",
    "dataX_temp2 = dataX_temp2[147:-36]\n",
    "dataY_temp2 = dataSetY_All.iloc[147:-36,0:1]\n",
    "\n",
    "dataX_temp2 = np.concatenate((dataX_temp2,dataX_temp),axis=2)"
   ]
  },
  {
   "cell_type": "code",
   "execution_count": 42,
   "metadata": {},
   "outputs": [],
   "source": [
    "# Split dataset into train set and test set,split ratio 4:1\n",
    "splitting_Point = int(len(dataX_temp)*4/5)\n",
    "dataX_temp_train,dataX_temp_test = dataX_temp2[:splitting_Point],dataX_temp2[splitting_Point:]\n",
    "dataY_temp_train,dataY_temp_test = dataY_temp[:splitting_Point],dataY_temp[splitting_Point:]"
   ]
  },
  {
   "cell_type": "code",
   "execution_count": 43,
   "metadata": {},
   "outputs": [],
   "source": [
    "n_steps = 3\n",
    "n_features = 6\n",
    "# define model\n",
    "model3 = Sequential()\n",
    "model3.add(LSTM(50, activation='relu', input_shape=(n_steps, n_features)))\n",
    "model3.add(Dense(1))\n",
    "model3.compile(optimizer='adam', loss='mse')"
   ]
  },
  {
   "cell_type": "code",
   "execution_count": 44,
   "metadata": {},
   "outputs": [
    {
     "name": "stdout",
     "output_type": "stream",
     "text": [
      "Epoch 1/50\n",
      "3394/3394 [==============================] - 0s 121us/step - loss: 4186.7533\n",
      "Epoch 2/50\n",
      "3394/3394 [==============================] - 0s 59us/step - loss: 26.4665\n",
      "Epoch 3/50\n",
      "3394/3394 [==============================] - 0s 59us/step - loss: 19.2595\n",
      "Epoch 4/50\n",
      "3394/3394 [==============================] - 0s 61us/step - loss: 14.0745\n",
      "Epoch 5/50\n",
      "3394/3394 [==============================] - 0s 60us/step - loss: 11.0106\n",
      "Epoch 6/50\n",
      "3394/3394 [==============================] - 0s 66us/step - loss: 8.6397\n",
      "Epoch 7/50\n",
      "3394/3394 [==============================] - 0s 59us/step - loss: 7.0182\n",
      "Epoch 8/50\n",
      "3394/3394 [==============================] - 0s 61us/step - loss: 5.8116\n",
      "Epoch 9/50\n",
      "3394/3394 [==============================] - 0s 66us/step - loss: 4.9298\n",
      "Epoch 10/50\n",
      "3394/3394 [==============================] - 0s 59us/step - loss: 4.2808\n",
      "Epoch 11/50\n",
      "3394/3394 [==============================] - 0s 61us/step - loss: 3.8511\n",
      "Epoch 12/50\n",
      "3394/3394 [==============================] - 0s 69us/step - loss: 3.4929\n",
      "Epoch 13/50\n",
      "3394/3394 [==============================] - 0s 71us/step - loss: 3.1676\n",
      "Epoch 14/50\n",
      "3394/3394 [==============================] - 0s 77us/step - loss: 3.0933\n",
      "Epoch 15/50\n",
      "3394/3394 [==============================] - 0s 61us/step - loss: 2.7998\n",
      "Epoch 16/50\n",
      "3394/3394 [==============================] - 0s 58us/step - loss: 2.6538\n",
      "Epoch 17/50\n",
      "3394/3394 [==============================] - 0s 69us/step - loss: 2.4579\n",
      "Epoch 18/50\n",
      "3394/3394 [==============================] - 0s 63us/step - loss: 2.3150\n",
      "Epoch 19/50\n",
      "3394/3394 [==============================] - 0s 58us/step - loss: 2.2129\n",
      "Epoch 20/50\n",
      "3394/3394 [==============================] - 0s 58us/step - loss: 2.0005\n",
      "Epoch 21/50\n",
      "3394/3394 [==============================] - 0s 62us/step - loss: 1.9082\n",
      "Epoch 22/50\n",
      "3394/3394 [==============================] - 0s 61us/step - loss: 1.7712\n",
      "Epoch 23/50\n",
      "3394/3394 [==============================] - 0s 61us/step - loss: 1.6536\n",
      "Epoch 24/50\n",
      "3394/3394 [==============================] - 0s 58us/step - loss: 1.5349\n",
      "Epoch 25/50\n",
      "3394/3394 [==============================] - 0s 69us/step - loss: 1.2972\n",
      "Epoch 26/50\n",
      "3394/3394 [==============================] - 0s 61us/step - loss: 1.2265\n",
      "Epoch 27/50\n",
      "3394/3394 [==============================] - 0s 56us/step - loss: 0.9973\n",
      "Epoch 28/50\n",
      "3394/3394 [==============================] - 0s 68us/step - loss: 0.9154\n",
      "Epoch 29/50\n",
      "3394/3394 [==============================] - 0s 65us/step - loss: 0.8463\n",
      "Epoch 30/50\n",
      "3394/3394 [==============================] - 0s 61us/step - loss: 0.7998\n",
      "Epoch 31/50\n",
      "3394/3394 [==============================] - 0s 63us/step - loss: 0.7875\n",
      "Epoch 32/50\n",
      "3394/3394 [==============================] - 0s 60us/step - loss: 0.6803\n",
      "Epoch 33/50\n",
      "3394/3394 [==============================] - 0s 63us/step - loss: 0.6364\n",
      "Epoch 34/50\n",
      "3394/3394 [==============================] - 0s 59us/step - loss: 0.6790\n",
      "Epoch 35/50\n",
      "3394/3394 [==============================] - 0s 63us/step - loss: 0.6367\n",
      "Epoch 36/50\n",
      "3394/3394 [==============================] - 0s 67us/step - loss: 0.6900\n",
      "Epoch 37/50\n",
      "3394/3394 [==============================] - 0s 64us/step - loss: 0.6254\n",
      "Epoch 38/50\n",
      "3394/3394 [==============================] - 0s 66us/step - loss: 0.6822\n",
      "Epoch 39/50\n",
      "3394/3394 [==============================] - 0s 67us/step - loss: 0.6583\n",
      "Epoch 40/50\n",
      "3394/3394 [==============================] - 0s 63us/step - loss: 0.6003\n",
      "Epoch 41/50\n",
      "3394/3394 [==============================] - 0s 64us/step - loss: 0.6448\n",
      "Epoch 42/50\n",
      "3394/3394 [==============================] - 0s 65us/step - loss: 0.6736\n",
      "Epoch 43/50\n",
      "3394/3394 [==============================] - 0s 63us/step - loss: 0.6268\n",
      "Epoch 44/50\n",
      "3394/3394 [==============================] - 0s 64us/step - loss: 0.6059\n",
      "Epoch 45/50\n",
      "3394/3394 [==============================] - 0s 60us/step - loss: 0.6073\n",
      "Epoch 46/50\n",
      "3394/3394 [==============================] - 0s 67us/step - loss: 0.5850\n",
      "Epoch 47/50\n",
      "3394/3394 [==============================] - 0s 69us/step - loss: 0.5849\n",
      "Epoch 48/50\n",
      "3394/3394 [==============================] - 0s 68us/step - loss: 0.5253\n",
      "Epoch 49/50\n",
      "3394/3394 [==============================] - 0s 62us/step - loss: 0.7479\n",
      "Epoch 50/50\n",
      "3394/3394 [==============================] - 0s 61us/step - loss: 0.6136\n"
     ]
    },
    {
     "data": {
      "text/plain": [
       "<keras.callbacks.History at 0x245d67566d8>"
      ]
     },
     "execution_count": 44,
     "metadata": {},
     "output_type": "execute_result"
    }
   ],
   "source": [
    "# fit model\n",
    "model3.fit(dataX_temp_train, dataY_temp_train , epochs=50, verbose=1)"
   ]
  },
  {
   "cell_type": "code",
   "execution_count": 45,
   "metadata": {},
   "outputs": [
    {
     "data": {
      "text/plain": [
       "[<matplotlib.lines.Line2D at 0x245dac7e390>]"
      ]
     },
     "execution_count": 45,
     "metadata": {},
     "output_type": "execute_result"
    },
    {
     "data": {
      "image/png": "[encoded data removed]",
      "text/plain": [
       "<Figure size 432x288 with 1 Axes>"
      ]
     },
     "metadata": {
      "needs_background": "light"
     },
     "output_type": "display_data"
    },
    {
     "data": {
      "image/png": "[encoded data removed]",
      "text/plain": [
       "<Figure size 432x288 with 1 Axes>"
      ]
     },
     "metadata": {
      "needs_background": "light"
     },
     "output_type": "display_data"
    }
   ],
   "source": [
    "# demonstrate prediction\n",
    "x_input = dataX_temp_test \n",
    "yhat3 = model3.predict(x_input, verbose=0)\n",
    "\n",
    "plt.plot(yhat3)\n",
    "plt.plot(np.arange(len(dataY_temp_test)),dataY_temp_test)\n",
    "\n",
    "plt.figure()\n",
    "l = 50\n",
    "plt.plot(np.arange(l),yhat3[:l])\n",
    "plt.plot(np.arange(50),dataY_temp_test[:l],'-*')"
   ]
  },
  {
   "cell_type": "markdown",
   "metadata": {},
   "source": [
    "##### Multi-variate(scaled)"
   ]
  },
  {
   "cell_type": "code",
   "execution_count": 33,
   "metadata": {},
   "outputs": [],
   "source": [
    "from sklearn.preprocessing import MinMaxScaler"
   ]
  },
  {
   "cell_type": "code",
   "execution_count": null,
   "metadata": {},
   "outputs": [],
   "source": [
    "# normalize the dataset\n",
    "scaler = MinMaxScaler(feature_range=(0, 1))"
   ]
  },
  {
   "cell_type": "code",
   "execution_count": 65,
   "metadata": {},
   "outputs": [
    {
     "name": "stderr",
     "output_type": "stream",
     "text": [
      "C:\\ProgramData\\Anaconda3\\lib\\site-packages\\sklearn\\preprocessing\\data.py:334: DataConversionWarning: Data with input dtype int32, float64 were all converted to float64 by MinMaxScaler.\n",
      "  return self.partial_fit(X, y)\n"
     ]
    }
   ],
   "source": [
    "### transform to multi steps dataset\n",
    "temp = scaler.fit_transform(dataSetX_All[['TSupCor.T', 'VSupCor_flow.V_flow','InternalGain','Dry Bulb Temperature {C}','occup']])\n",
    "dataX_temp2 = timeseries_to_multi_step(DataFrame(temp),3)\n",
    "\n",
    "# truncate head and tail\n",
    "dataX_temp2 = dataX_temp2[147:-36]\n",
    "dataY_temp2 = dataSetY_All.iloc[147:-36,0:1]\n",
    "\n",
    "dataX_temp2 = np.concatenate((dataX_temp2,dataX_temp),axis=2)"
   ]
  },
  {
   "cell_type": "code",
   "execution_count": 66,
   "metadata": {},
   "outputs": [],
   "source": [
    "# Split dataset into train set and test set,split ratio 4:1\n",
    "splitting_Point = int(len(dataX_temp)*4/5)\n",
    "dataX_temp_train,dataX_temp_test = dataX_temp2[:splitting_Point],dataX_temp2[splitting_Point:]\n",
    "dataY_temp_train,dataY_temp_test = dataY_temp[:splitting_Point],dataY_temp[splitting_Point:]"
   ]
  },
  {
   "cell_type": "code",
   "execution_count": 67,
   "metadata": {},
   "outputs": [
    {
     "data": {
      "text/plain": [
       "(4243, 3, 6)"
      ]
     },
     "execution_count": 67,
     "metadata": {},
     "output_type": "execute_result"
    }
   ],
   "source": [
    "dataX_temp2.shape"
   ]
  },
  {
   "cell_type": "code",
   "execution_count": 68,
   "metadata": {},
   "outputs": [],
   "source": [
    "n_steps = 3\n",
    "n_features = 6\n",
    "# define model\n",
    "model3 = Sequential()\n",
    "model3.add(LSTM(50, activation='relu', input_shape=(n_steps, n_features)))\n",
    "model3.add(Dense(1))\n",
    "model3.compile(optimizer='adam', loss='mse')"
   ]
  },
  {
   "cell_type": "code",
   "execution_count": 69,
   "metadata": {},
   "outputs": [
    {
     "name": "stdout",
     "output_type": "stream",
     "text": [
      "Epoch 1/50\n",
      "3394/3394 [==============================] - 0s 101us/step - loss: 0.0991\n",
      "Epoch 2/50\n",
      "3394/3394 [==============================] - 0s 73us/step - loss: 0.0045\n",
      "Epoch 3/50\n",
      "3394/3394 [==============================] - 0s 74us/step - loss: 0.0035\n",
      "Epoch 4/50\n",
      "3394/3394 [==============================] - 0s 76us/step - loss: 0.0027\n",
      "Epoch 5/50\n",
      "3394/3394 [==============================] - 0s 66us/step - loss: 0.0023\n",
      "Epoch 6/50\n",
      "3394/3394 [==============================] - 0s 79us/step - loss: 0.0020\n",
      "Epoch 7/50\n",
      "3394/3394 [==============================] - 0s 71us/step - loss: 0.0019\n",
      "Epoch 8/50\n",
      "3394/3394 [==============================] - 0s 102us/step - loss: 0.0018\n",
      "Epoch 9/50\n",
      "3394/3394 [==============================] - 0s 88us/step - loss: 0.0017\n",
      "Epoch 10/50\n",
      "3394/3394 [==============================] - 0s 101us/step - loss: 0.0017\n",
      "Epoch 11/50\n",
      "3394/3394 [==============================] - 0s 81us/step - loss: 0.0016\n",
      "Epoch 12/50\n",
      "3394/3394 [==============================] - 0s 87us/step - loss: 0.0016\n",
      "Epoch 13/50\n",
      "3394/3394 [==============================] - 0s 108us/step - loss: 0.0016\n",
      "Epoch 14/50\n",
      "3394/3394 [==============================] - 0s 72us/step - loss: 0.0016\n",
      "Epoch 15/50\n",
      "3394/3394 [==============================] - 0s 79us/step - loss: 0.0015\n",
      "Epoch 16/50\n",
      "3394/3394 [==============================] - 0s 88us/step - loss: 0.0015\n",
      "Epoch 17/50\n",
      "3394/3394 [==============================] - 0s 72us/step - loss: 0.0015\n",
      "Epoch 18/50\n",
      "3394/3394 [==============================] - 0s 103us/step - loss: 0.0016\n",
      "Epoch 19/50\n",
      "3394/3394 [==============================] - 0s 90us/step - loss: 0.0015\n",
      "Epoch 20/50\n",
      "3394/3394 [==============================] - 0s 81us/step - loss: 0.0015\n",
      "Epoch 21/50\n",
      "3394/3394 [==============================] - 0s 82us/step - loss: 0.0015\n",
      "Epoch 22/50\n",
      "3394/3394 [==============================] - 0s 76us/step - loss: 0.0016\n",
      "Epoch 23/50\n",
      "3394/3394 [==============================] - 0s 100us/step - loss: 0.0015\n",
      "Epoch 24/50\n",
      "3394/3394 [==============================] - 0s 91us/step - loss: 0.0014\n",
      "Epoch 25/50\n",
      "3394/3394 [==============================] - 0s 73us/step - loss: 0.0015\n",
      "Epoch 26/50\n",
      "3394/3394 [==============================] - 0s 75us/step - loss: 0.0014\n",
      "Epoch 27/50\n",
      "3394/3394 [==============================] - 0s 76us/step - loss: 0.0016\n",
      "Epoch 28/50\n",
      "3394/3394 [==============================] - 0s 77us/step - loss: 0.0014\n",
      "Epoch 29/50\n",
      "3394/3394 [==============================] - 0s 69us/step - loss: 0.0014\n",
      "Epoch 30/50\n",
      "3394/3394 [==============================] - 0s 75us/step - loss: 0.0015\n",
      "Epoch 31/50\n",
      "3394/3394 [==============================] - 0s 82us/step - loss: 0.0015\n",
      "Epoch 32/50\n",
      "3394/3394 [==============================] - 0s 73us/step - loss: 0.0014\n",
      "Epoch 33/50\n",
      "3394/3394 [==============================] - 0s 70us/step - loss: 0.0014\n",
      "Epoch 34/50\n",
      "3394/3394 [==============================] - 0s 76us/step - loss: 0.0013\n",
      "Epoch 35/50\n",
      "3394/3394 [==============================] - 0s 63us/step - loss: 0.0013\n",
      "Epoch 36/50\n",
      "3394/3394 [==============================] - 0s 66us/step - loss: 0.0013\n",
      "Epoch 37/50\n",
      "3394/3394 [==============================] - 0s 66us/step - loss: 0.0013\n",
      "Epoch 38/50\n",
      "3394/3394 [==============================] - 0s 69us/step - loss: 0.0014\n",
      "Epoch 39/50\n",
      "3394/3394 [==============================] - 0s 77us/step - loss: 0.0013\n",
      "Epoch 40/50\n",
      "3394/3394 [==============================] - 0s 67us/step - loss: 0.0013\n",
      "Epoch 41/50\n",
      "3394/3394 [==============================] - 0s 74us/step - loss: 0.0013\n",
      "Epoch 42/50\n",
      "3394/3394 [==============================] - 0s 66us/step - loss: 0.0013\n",
      "Epoch 43/50\n",
      "3394/3394 [==============================] - 0s 86us/step - loss: 0.0014\n",
      "Epoch 44/50\n",
      "3394/3394 [==============================] - 0s 84us/step - loss: 0.0013\n",
      "Epoch 45/50\n",
      "3394/3394 [==============================] - 0s 75us/step - loss: 0.0015\n",
      "Epoch 46/50\n",
      "3394/3394 [==============================] - 0s 72us/step - loss: 0.0012\n",
      "Epoch 47/50\n",
      "3394/3394 [==============================] - 0s 78us/step - loss: 0.0012\n",
      "Epoch 48/50\n",
      "3394/3394 [==============================] - 0s 68us/step - loss: 0.0013\n",
      "Epoch 49/50\n",
      "3394/3394 [==============================] - 0s 85us/step - loss: 0.0014\n",
      "Epoch 50/50\n",
      "3394/3394 [==============================] - 0s 73us/step - loss: 0.0012\n"
     ]
    },
    {
     "data": {
      "text/plain": [
       "<keras.callbacks.History at 0x2b734507048>"
      ]
     },
     "execution_count": 69,
     "metadata": {},
     "output_type": "execute_result"
    }
   ],
   "source": [
    "# fit model\n",
    "model3.fit(dataX_temp_train, dataY_temp_train , epochs=50, verbose=1)"
   ]
  },
  {
   "cell_type": "code",
   "execution_count": 70,
   "metadata": {},
   "outputs": [],
   "source": [
    "# demonstrate prediction\n",
    "x_input = dataX_temp_test \n",
    "yhat3 = model3.predict(x_input, verbose=0)\n",
    "\n",
    "plt.plot(yhat3)\n",
    "plt.plot(np.arange(len(dataY_temp_test)),dataY_temp_test)\n",
    "\n",
    "plt.figure()\n",
    "l = 50\n",
    "plt.plot(np.arange(l),yhat3[:l])\n",
    "plt.plot(np.arange(50),dataY_temp_test[:l],'-*')"
   ]
  },
  {
   "cell_type": "code",
   "execution_count": 74,
   "metadata": {},
   "outputs": [
    {
     "data": {
      "text/plain": [
       "[<matplotlib.lines.Line2D at 0x2b73a99f9b0>]"
      ]
     },
     "execution_count": 74,
     "metadata": {},
     "output_type": "execute_result"
    },
    {
     "data": {
      "image/png": "[encoded data removed]",
      "text/plain": [
       "<Figure size 432x288 with 1 Axes>"
      ]
     },
     "metadata": {
      "needs_background": "light"
     },
     "output_type": "display_data"
    },
    {
     "data": {
      "image/png": "[encoded data removed]",
      "text/plain": [
       "<Figure size 432x288 with 1 Axes>"
      ]
     },
     "metadata": {
      "needs_background": "light"
     },
     "output_type": "display_data"
    }
   ],
   "source": [
    "plt.plot(yhat3)\n",
    "plt.plot(np.arange(len(dataY_temp_test)),dataY_temp_test)\n",
    "\n",
    "plt.figure()\n",
    "l = 50\n",
    "plt.plot(np.arange(l),yhat3[:l])\n",
    "plt.plot(np.arange(50),dataY_temp_test[:l],'-*')"
   ]
  },
  {
   "cell_type": "code",
   "execution_count": 471,
   "metadata": {},
   "outputs": [
    {
     "data": {
      "text/plain": [
       "[<matplotlib.lines.Line2D at 0x22986604748>]"
      ]
     },
     "execution_count": 471,
     "metadata": {},
     "output_type": "execute_result"
    },
    {
     "data": {
      "image/png": "[encoded data removed]",
      "text/plain": [
       "<Figure size 432x288 with 1 Axes>"
      ]
     },
     "metadata": {
      "needs_background": "light"
     },
     "output_type": "display_data"
    },
    {
     "data": {
      "image/png": "[encoded data removed]",
      "text/plain": [
       "<Figure size 432x288 with 1 Axes>"
      ]
     },
     "metadata": {
      "needs_background": "light"
     },
     "output_type": "display_data"
    }
   ],
   "source": [
    "plt.plot(yhat3)\n",
    "plt.plot(np.arange(len(dataY_temp_test)),dataY_temp_test)\n",
    "\n",
    "plt.figure()\n",
    "l = 50\n",
    "plt.plot(yhat[:l])\n",
    "plt.plot(np.arange(l),yhat2[:l])\n",
    "plt.plot(np.arange(l),yhat3[:l])\n",
    "plt.plot(np.arange(l),yhat4[:l])\n",
    "\n",
    "plt.plot(np.arange(50),dataY_temp_test[:l],'-*')"
   ]
  },
  {
   "cell_type": "code",
   "execution_count": 478,
   "metadata": {},
   "outputs": [
    {
     "data": {
      "text/plain": [
       "[<matplotlib.lines.Line2D at 0x22986799668>]"
      ]
     },
     "execution_count": 478,
     "metadata": {},
     "output_type": "execute_result"
    },
    {
     "data": {
      "image/png": "[encoded data removed]",
      "text/plain": [
       "<Figure size 432x288 with 1 Axes>"
      ]
     },
     "metadata": {
      "needs_background": "light"
     },
     "output_type": "display_data"
    }
   ],
   "source": [
    "plt.figure()\n",
    "l = 50\n",
    "plt.plot(yhat[1:l])\n",
    "plt.plot(np.arange(l-1),yhat2[1:l])\n",
    "plt.plot(np.arange(l-1),yhat3[1:l])\n",
    "plt.plot(np.arange(l-1),yhat4[1:l])\n",
    "\n",
    "plt.plot(np.arange(49),dataY_temp_test[1:l],'-*')\n",
    "plt.plot(np.arange(49),dataY_temp_test[:l-1],'-*')"
   ]
  },
  {
   "cell_type": "code",
   "execution_count": 481,
   "metadata": {},
   "outputs": [],
   "source": [
    "from sklearn.metrics import mean_squared_error as mse"
   ]
  },
  {
   "cell_type": "code",
   "execution_count": 487,
   "metadata": {},
   "outputs": [
    {
     "name": "stdout",
     "output_type": "stream",
     "text": [
      "mse for Univariate LSTM is 0.17\n",
      "mse for Multi-step LSTM is 0.20\n",
      "mse for Multi-step Multi-variate LSTM is 0.75\n",
      "mse for ARX is 0.23\n",
      "mse for MLP is 0.23\n"
     ]
    }
   ],
   "source": [
    "print('mse for Univariate LSTM is %.2f'%mse(yhat[1:l],dataY_temp_test[1:l]))\n",
    "print('mse for Multi-step LSTM is %.2f'%mse(yhat2[1:l],dataY_temp_test[1:l]))\n",
    "print('mse for Multi-step Multi-variate LSTM is %.2f'%mse(yhat3[1:l],dataY_temp_test[1:l]))\n",
    "print('mse for ARX is %.2f'%mse(yhat4[1:l],dataY_temp_test[1:l]))\n",
    "print('mse for MLP is %.2f'%mse(yhat4[1:l],dataY_temp_test[1:l]))"
   ]
  },
  {
   "cell_type": "code",
   "execution_count": null,
   "metadata": {},
   "outputs": [],
   "source": []
  }
 ],
 "metadata": {
  "kernelspec": {
   "display_name": "Python 3",
   "language": "python",
   "name": "python3"
  },
  "language_info": {
   "codemirror_mode": {
    "name": "ipython",
    "version": 3
   },
   "file_extension": ".py",
   "mimetype": "text/x-python",
   "name": "python",
   "nbconvert_exporter": "python",
   "pygments_lexer": "ipython3",
   "version": "3.7.3"
  },
  "toc": {
   "base_numbering": 1,
   "nav_menu": {},
   "number_sections": true,
   "sideBar": true,
   "skip_h1_title": false,
   "title_cell": "Table of Contents",
   "title_sidebar": "Contents",
   "toc_cell": false,
   "toc_position": {
    "height": "565.108px",
    "left": "26px",
    "top": "110.862px",
    "width": "283.708px"
   },
   "toc_section_display": true,
   "toc_window_display": true
  }
 },
 "nbformat": 4,
 "nbformat_minor": 2
}
